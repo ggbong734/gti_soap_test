{
 "cells": [
  {
   "cell_type": "code",
   "execution_count": 1,
   "metadata": {},
   "outputs": [],
   "source": [
    "import pandas as pd\n",
    "import matplotlib.pyplot as plt\n",
    "import matplotlib.style as style\n",
    "style.use('fivethirtyeight')\n",
    "import seaborn as sns\n",
    "import numpy as np\n",
    "import dc_stat_think as dcst # import dc_stat_think package from Datacamp for bootstrap and ecdf calculation"
   ]
  },
  {
   "cell_type": "code",
   "execution_count": 2,
   "metadata": {},
   "outputs": [],
   "source": [
    "#Import CARB GTI 2018 study on residential meter sets, \n",
    "#The csv file only includes measurements where bubbles were seen (data where bubbles were not observed are excluded)\n",
    "carb = pd.read_csv('CARB_res_meter_set.csv') \n",
    "\n",
    "#Import GTI soap test experiment data (roughly 100+ data points)\n",
    "gti = pd.read_csv('Soap_test_experiments_results.csv')\n",
    "\n",
    "#Import DOE industrial meter set data"
   ]
  },
  {
   "cell_type": "code",
   "execution_count": 3,
   "metadata": {},
   "outputs": [],
   "source": [
    "#Add a column in CARB dataset to convert average flow rate from SCFM to SCFH\n",
    "carb['leak_rate_scfh'] = carb['LEAK.RATE.AVE.SCFM'] * 60"
   ]
  },
  {
   "cell_type": "code",
   "execution_count": 4,
   "metadata": {},
   "outputs": [
    {
     "data": {
      "text/html": [
       "<div>\n",
       "<style scoped>\n",
       "    .dataframe tbody tr th:only-of-type {\n",
       "        vertical-align: middle;\n",
       "    }\n",
       "\n",
       "    .dataframe tbody tr th {\n",
       "        vertical-align: top;\n",
       "    }\n",
       "\n",
       "    .dataframe thead th {\n",
       "        text-align: right;\n",
       "    }\n",
       "</style>\n",
       "<table border=\"1\" class=\"dataframe\">\n",
       "  <thead>\n",
       "    <tr style=\"text-align: right;\">\n",
       "      <th></th>\n",
       "      <th>DAE.ID</th>\n",
       "      <th>COMPANY</th>\n",
       "      <th>SITE.ID</th>\n",
       "      <th>BUBBLE.SEEN</th>\n",
       "      <th>leak_rate_scfh</th>\n",
       "      <th>TOOL.USED</th>\n",
       "      <th>LEAKING.COMPONENT</th>\n",
       "      <th>source</th>\n",
       "    </tr>\n",
       "  </thead>\n",
       "  <tbody>\n",
       "    <tr>\n",
       "      <th>0</th>\n",
       "      <td>14</td>\n",
       "      <td>Socal</td>\n",
       "      <td>17080714.0</td>\n",
       "      <td>Bubbles.Seen</td>\n",
       "      <td>0.008595</td>\n",
       "      <td>Bag</td>\n",
       "      <td>Valve</td>\n",
       "      <td>CARB study</td>\n",
       "    </tr>\n",
       "    <tr>\n",
       "      <th>2</th>\n",
       "      <td>23</td>\n",
       "      <td>Socal</td>\n",
       "      <td>17080723.0</td>\n",
       "      <td>Bubbles.Seen</td>\n",
       "      <td>0.000140</td>\n",
       "      <td>NaN</td>\n",
       "      <td>Elbow</td>\n",
       "      <td>CARB study</td>\n",
       "    </tr>\n",
       "    <tr>\n",
       "      <th>3</th>\n",
       "      <td>27</td>\n",
       "      <td>Socal</td>\n",
       "      <td>17080727.0</td>\n",
       "      <td>Bubbles.Seen</td>\n",
       "      <td>0.000640</td>\n",
       "      <td>NaN</td>\n",
       "      <td>Bushing</td>\n",
       "      <td>CARB study</td>\n",
       "    </tr>\n",
       "    <tr>\n",
       "      <th>4</th>\n",
       "      <td>43</td>\n",
       "      <td>Socal</td>\n",
       "      <td>17080813.0</td>\n",
       "      <td>Bubbles.Seen</td>\n",
       "      <td>0.009125</td>\n",
       "      <td>NaN</td>\n",
       "      <td>Coupling</td>\n",
       "      <td>CARB study</td>\n",
       "    </tr>\n",
       "    <tr>\n",
       "      <th>7</th>\n",
       "      <td>70</td>\n",
       "      <td>Socal</td>\n",
       "      <td>17080840.0</td>\n",
       "      <td>Bubbles.Seen</td>\n",
       "      <td>0.015480</td>\n",
       "      <td>NaN</td>\n",
       "      <td>Tee</td>\n",
       "      <td>CARB study</td>\n",
       "    </tr>\n",
       "  </tbody>\n",
       "</table>\n",
       "</div>"
      ],
      "text/plain": [
       "   DAE.ID COMPANY     SITE.ID   BUBBLE.SEEN  leak_rate_scfh TOOL.USED  \\\n",
       "0      14   Socal  17080714.0  Bubbles.Seen        0.008595       Bag   \n",
       "2      23   Socal  17080723.0  Bubbles.Seen        0.000140       NaN   \n",
       "3      27   Socal  17080727.0  Bubbles.Seen        0.000640       NaN   \n",
       "4      43   Socal  17080813.0  Bubbles.Seen        0.009125       NaN   \n",
       "7      70   Socal  17080840.0  Bubbles.Seen        0.015480       NaN   \n",
       "\n",
       "  LEAKING.COMPONENT      source  \n",
       "0             Valve  CARB study  \n",
       "2             Elbow  CARB study  \n",
       "3           Bushing  CARB study  \n",
       "4          Coupling  CARB study  \n",
       "7               Tee  CARB study  "
      ]
     },
     "execution_count": 4,
     "metadata": {},
     "output_type": "execute_result"
    }
   ],
   "source": [
    "#Selecting only important columns. Repeat measurements, bushing_id, union_id columns are dropped\n",
    "carb = carb[['DAE.ID', 'COMPANY', 'SITE.ID', 'BUBBLE.SEEN', 'leak_rate_scfh', 'TOOL.USED', 'LEAKING.COMPONENT']]\n",
    "\n",
    "carb['source'] = 'CARB study'\n",
    "\n",
    "#Drop rows with missing average leak rate data\n",
    "carb.dropna(subset=['leak_rate_scfh'], inplace=True, axis='rows')\n",
    "carb.head()"
   ]
  },
  {
   "cell_type": "code",
   "execution_count": 5,
   "metadata": {},
   "outputs": [
    {
     "data": {
      "text/html": [
       "<div>\n",
       "<style scoped>\n",
       "    .dataframe tbody tr th:only-of-type {\n",
       "        vertical-align: middle;\n",
       "    }\n",
       "\n",
       "    .dataframe tbody tr th {\n",
       "        vertical-align: top;\n",
       "    }\n",
       "\n",
       "    .dataframe thead th {\n",
       "        text-align: right;\n",
       "    }\n",
       "</style>\n",
       "<table border=\"1\" class=\"dataframe\">\n",
       "  <thead>\n",
       "    <tr style=\"text-align: right;\">\n",
       "      <th></th>\n",
       "      <th>Experiment_ID</th>\n",
       "      <th>Thread_type</th>\n",
       "      <th>Soap_solution</th>\n",
       "      <th>leak_rate_scfh</th>\n",
       "      <th>Largest_bubble_size_in</th>\n",
       "      <th>Leak_grade</th>\n",
       "      <th>source</th>\n",
       "    </tr>\n",
       "  </thead>\n",
       "  <tbody>\n",
       "    <tr>\n",
       "      <th>0</th>\n",
       "      <td>1</td>\n",
       "      <td>Bare</td>\n",
       "      <td>Mega</td>\n",
       "      <td>0.003</td>\n",
       "      <td>0.0</td>\n",
       "      <td>3.0</td>\n",
       "      <td>GTI lab</td>\n",
       "    </tr>\n",
       "    <tr>\n",
       "      <th>1</th>\n",
       "      <td>2</td>\n",
       "      <td>Bare</td>\n",
       "      <td>Mega</td>\n",
       "      <td>0.004</td>\n",
       "      <td>0.0</td>\n",
       "      <td>3.0</td>\n",
       "      <td>GTI lab</td>\n",
       "    </tr>\n",
       "    <tr>\n",
       "      <th>2</th>\n",
       "      <td>3</td>\n",
       "      <td>Bare</td>\n",
       "      <td>Mega</td>\n",
       "      <td>0.006</td>\n",
       "      <td>0.0</td>\n",
       "      <td>3.0</td>\n",
       "      <td>GTI lab</td>\n",
       "    </tr>\n",
       "    <tr>\n",
       "      <th>3</th>\n",
       "      <td>4</td>\n",
       "      <td>Bare</td>\n",
       "      <td>Mega</td>\n",
       "      <td>0.009</td>\n",
       "      <td>0.1</td>\n",
       "      <td>3.0</td>\n",
       "      <td>GTI lab</td>\n",
       "    </tr>\n",
       "    <tr>\n",
       "      <th>4</th>\n",
       "      <td>5</td>\n",
       "      <td>Bare</td>\n",
       "      <td>Mega</td>\n",
       "      <td>0.010</td>\n",
       "      <td>0.1</td>\n",
       "      <td>3.0</td>\n",
       "      <td>GTI lab</td>\n",
       "    </tr>\n",
       "  </tbody>\n",
       "</table>\n",
       "</div>"
      ],
      "text/plain": [
       "   Experiment_ID Thread_type Soap_solution  leak_rate_scfh  \\\n",
       "0              1        Bare          Mega           0.003   \n",
       "1              2        Bare          Mega           0.004   \n",
       "2              3        Bare          Mega           0.006   \n",
       "3              4        Bare          Mega           0.009   \n",
       "4              5        Bare          Mega           0.010   \n",
       "\n",
       "   Largest_bubble_size_in  Leak_grade   source  \n",
       "0                     0.0         3.0  GTI lab  \n",
       "1                     0.0         3.0  GTI lab  \n",
       "2                     0.0         3.0  GTI lab  \n",
       "3                     0.1         3.0  GTI lab  \n",
       "4                     0.1         3.0  GTI lab  "
      ]
     },
     "execution_count": 5,
     "metadata": {},
     "output_type": "execute_result"
    }
   ],
   "source": [
    "#Rename leak rate columns so it has the same name as the carb data\n",
    "gti.rename(columns ={'Leak_size_scfh' : 'leak_rate_scfh'}, inplace=True)\n",
    "gti['source']='GTI lab'\n",
    "gti.head()"
   ]
  },
  {
   "cell_type": "code",
   "execution_count": 6,
   "metadata": {},
   "outputs": [
    {
     "data": {
      "image/png": "[encoded data removed]",
      "text/plain": [
       "<Figure size 432x288 with 1 Axes>"
      ]
     },
     "metadata": {
      "needs_background": "light"
     },
     "output_type": "display_data"
    }
   ],
   "source": [
    "#Plot the cumulative distribution curve of the GTI experimental data (112 data points)\n",
    "gti_flow_rate, gti_ecdf = dcst.ecdf(gti.leak_rate_scfh)\n",
    "_ = sns.scatterplot(x=gti_flow_rate, y=gti_ecdf)\n",
    "_ = plt.title('2019 GTI soap test experiments data')\n",
    "_ = plt.xlabel('Leak rate (scfh)')\n",
    "_ = plt.ylabel('ECDF')\n",
    "plt.show()"
   ]
  },
  {
   "cell_type": "code",
   "execution_count": 7,
   "metadata": {},
   "outputs": [
    {
     "data": {
      "image/png": "[encoded data removed]",
      "text/plain": [
       "<Figure size 432x288 with 1 Axes>"
      ]
     },
     "metadata": {
      "needs_background": "light"
     },
     "output_type": "display_data"
    }
   ],
   "source": [
    "#Plot the pdf of the GTI experiment data\n",
    "\n",
    "#Plot the pdf of the dataset\n",
    "LogMin, LogMax = np.log10(gti_flow_rate.min()),np.log10(gti_flow_rate.max())\n",
    "newBins = np.logspace(LogMin, LogMax, 15)\n",
    "\n",
    "ax = sns.distplot(gti_flow_rate, kde=False, bins = newBins, rug=True)\n",
    "ax.set(xscale=\"log\")\n",
    "_ = plt.title('PDF of GTI experiment data')\n",
    "_ = plt.xlabel('Leak rate (scfh)')\n",
    "_ = plt.ylabel('Count')\n",
    "_ = plt.xlim(0.001, 60)"
   ]
  },
  {
   "cell_type": "code",
   "execution_count": 8,
   "metadata": {},
   "outputs": [
    {
     "data": {
      "image/png": "[encoded data removed]",
      "text/plain": [
       "<Figure size 432x288 with 1 Axes>"
      ]
     },
     "metadata": {
      "needs_background": "light"
     },
     "output_type": "display_data"
    }
   ],
   "source": [
    "#Plot the cumulative distribution curve of the GTI experimental data (50 data points)\n",
    "carb_flow_rate, carb_ecdf = dcst.ecdf(carb.leak_rate_scfh)\n",
    "_ = sns.scatterplot(x=carb_flow_rate, y=carb_ecdf)\n",
    "_ = plt.title('2018 CARB meter set data')\n",
    "_ = plt.xlabel('Leak rate (scfh)')\n",
    "_ = plt.ylabel('ECDF')\n",
    "plt.show()"
   ]
  },
  {
   "cell_type": "code",
   "execution_count": 9,
   "metadata": {},
   "outputs": [],
   "source": [
    "#Combine the carb and gti datasets \n",
    "#Including all the thread types and soap solutions from GTI data\n",
    "combined = pd.merge(carb, gti,how='outer')"
   ]
  },
  {
   "cell_type": "code",
   "execution_count": 10,
   "metadata": {},
   "outputs": [
    {
     "data": {
      "text/plain": [
       "(162, 13)"
      ]
     },
     "execution_count": 10,
     "metadata": {},
     "output_type": "execute_result"
    }
   ],
   "source": [
    "combined.shape"
   ]
  },
  {
   "cell_type": "code",
   "execution_count": 11,
   "metadata": {},
   "outputs": [
    {
     "data": {
      "text/html": [
       "<div>\n",
       "<style scoped>\n",
       "    .dataframe tbody tr th:only-of-type {\n",
       "        vertical-align: middle;\n",
       "    }\n",
       "\n",
       "    .dataframe tbody tr th {\n",
       "        vertical-align: top;\n",
       "    }\n",
       "\n",
       "    .dataframe thead th {\n",
       "        text-align: right;\n",
       "    }\n",
       "</style>\n",
       "<table border=\"1\" class=\"dataframe\">\n",
       "  <thead>\n",
       "    <tr style=\"text-align: right;\">\n",
       "      <th></th>\n",
       "      <th>DAE.ID</th>\n",
       "      <th>COMPANY</th>\n",
       "      <th>SITE.ID</th>\n",
       "      <th>BUBBLE.SEEN</th>\n",
       "      <th>leak_rate_scfh</th>\n",
       "      <th>TOOL.USED</th>\n",
       "      <th>LEAKING.COMPONENT</th>\n",
       "      <th>source</th>\n",
       "      <th>Experiment_ID</th>\n",
       "      <th>Thread_type</th>\n",
       "      <th>Soap_solution</th>\n",
       "      <th>Largest_bubble_size_in</th>\n",
       "      <th>Leak_grade</th>\n",
       "    </tr>\n",
       "  </thead>\n",
       "  <tbody>\n",
       "    <tr>\n",
       "      <th>0</th>\n",
       "      <td>14.0</td>\n",
       "      <td>Socal</td>\n",
       "      <td>17080714.0</td>\n",
       "      <td>Bubbles.Seen</td>\n",
       "      <td>0.008595</td>\n",
       "      <td>Bag</td>\n",
       "      <td>Valve</td>\n",
       "      <td>CARB study</td>\n",
       "      <td>NaN</td>\n",
       "      <td>NaN</td>\n",
       "      <td>NaN</td>\n",
       "      <td>NaN</td>\n",
       "      <td>NaN</td>\n",
       "    </tr>\n",
       "    <tr>\n",
       "      <th>1</th>\n",
       "      <td>23.0</td>\n",
       "      <td>Socal</td>\n",
       "      <td>17080723.0</td>\n",
       "      <td>Bubbles.Seen</td>\n",
       "      <td>0.000140</td>\n",
       "      <td>NaN</td>\n",
       "      <td>Elbow</td>\n",
       "      <td>CARB study</td>\n",
       "      <td>NaN</td>\n",
       "      <td>NaN</td>\n",
       "      <td>NaN</td>\n",
       "      <td>NaN</td>\n",
       "      <td>NaN</td>\n",
       "    </tr>\n",
       "    <tr>\n",
       "      <th>2</th>\n",
       "      <td>27.0</td>\n",
       "      <td>Socal</td>\n",
       "      <td>17080727.0</td>\n",
       "      <td>Bubbles.Seen</td>\n",
       "      <td>0.000640</td>\n",
       "      <td>NaN</td>\n",
       "      <td>Bushing</td>\n",
       "      <td>CARB study</td>\n",
       "      <td>NaN</td>\n",
       "      <td>NaN</td>\n",
       "      <td>NaN</td>\n",
       "      <td>NaN</td>\n",
       "      <td>NaN</td>\n",
       "    </tr>\n",
       "    <tr>\n",
       "      <th>3</th>\n",
       "      <td>43.0</td>\n",
       "      <td>Socal</td>\n",
       "      <td>17080813.0</td>\n",
       "      <td>Bubbles.Seen</td>\n",
       "      <td>0.009125</td>\n",
       "      <td>NaN</td>\n",
       "      <td>Coupling</td>\n",
       "      <td>CARB study</td>\n",
       "      <td>NaN</td>\n",
       "      <td>NaN</td>\n",
       "      <td>NaN</td>\n",
       "      <td>NaN</td>\n",
       "      <td>NaN</td>\n",
       "    </tr>\n",
       "    <tr>\n",
       "      <th>4</th>\n",
       "      <td>70.0</td>\n",
       "      <td>Socal</td>\n",
       "      <td>17080840.0</td>\n",
       "      <td>Bubbles.Seen</td>\n",
       "      <td>0.015480</td>\n",
       "      <td>NaN</td>\n",
       "      <td>Tee</td>\n",
       "      <td>CARB study</td>\n",
       "      <td>NaN</td>\n",
       "      <td>NaN</td>\n",
       "      <td>NaN</td>\n",
       "      <td>NaN</td>\n",
       "      <td>NaN</td>\n",
       "    </tr>\n",
       "  </tbody>\n",
       "</table>\n",
       "</div>"
      ],
      "text/plain": [
       "   DAE.ID COMPANY     SITE.ID   BUBBLE.SEEN  leak_rate_scfh TOOL.USED  \\\n",
       "0    14.0   Socal  17080714.0  Bubbles.Seen        0.008595       Bag   \n",
       "1    23.0   Socal  17080723.0  Bubbles.Seen        0.000140       NaN   \n",
       "2    27.0   Socal  17080727.0  Bubbles.Seen        0.000640       NaN   \n",
       "3    43.0   Socal  17080813.0  Bubbles.Seen        0.009125       NaN   \n",
       "4    70.0   Socal  17080840.0  Bubbles.Seen        0.015480       NaN   \n",
       "\n",
       "  LEAKING.COMPONENT      source  Experiment_ID Thread_type Soap_solution  \\\n",
       "0             Valve  CARB study            NaN         NaN           NaN   \n",
       "1             Elbow  CARB study            NaN         NaN           NaN   \n",
       "2           Bushing  CARB study            NaN         NaN           NaN   \n",
       "3          Coupling  CARB study            NaN         NaN           NaN   \n",
       "4               Tee  CARB study            NaN         NaN           NaN   \n",
       "\n",
       "   Largest_bubble_size_in  Leak_grade  \n",
       "0                     NaN         NaN  \n",
       "1                     NaN         NaN  \n",
       "2                     NaN         NaN  \n",
       "3                     NaN         NaN  \n",
       "4                     NaN         NaN  "
      ]
     },
     "execution_count": 11,
     "metadata": {},
     "output_type": "execute_result"
    }
   ],
   "source": [
    "combined.head()"
   ]
  },
  {
   "cell_type": "code",
   "execution_count": 12,
   "metadata": {},
   "outputs": [
    {
     "data": {
      "text/html": [
       "<div>\n",
       "<style scoped>\n",
       "    .dataframe tbody tr th:only-of-type {\n",
       "        vertical-align: middle;\n",
       "    }\n",
       "\n",
       "    .dataframe tbody tr th {\n",
       "        vertical-align: top;\n",
       "    }\n",
       "\n",
       "    .dataframe thead th {\n",
       "        text-align: right;\n",
       "    }\n",
       "</style>\n",
       "<table border=\"1\" class=\"dataframe\">\n",
       "  <thead>\n",
       "    <tr style=\"text-align: right;\">\n",
       "      <th></th>\n",
       "      <th>leak_rate_scfh</th>\n",
       "      <th>source</th>\n",
       "    </tr>\n",
       "  </thead>\n",
       "  <tbody>\n",
       "    <tr>\n",
       "      <th>25</th>\n",
       "      <td>0.000001</td>\n",
       "      <td>CARB study</td>\n",
       "    </tr>\n",
       "    <tr>\n",
       "      <th>10</th>\n",
       "      <td>0.000085</td>\n",
       "      <td>CARB study</td>\n",
       "    </tr>\n",
       "    <tr>\n",
       "      <th>32</th>\n",
       "      <td>0.000124</td>\n",
       "      <td>CARB study</td>\n",
       "    </tr>\n",
       "    <tr>\n",
       "      <th>1</th>\n",
       "      <td>0.000140</td>\n",
       "      <td>CARB study</td>\n",
       "    </tr>\n",
       "    <tr>\n",
       "      <th>30</th>\n",
       "      <td>0.000234</td>\n",
       "      <td>CARB study</td>\n",
       "    </tr>\n",
       "  </tbody>\n",
       "</table>\n",
       "</div>"
      ],
      "text/plain": [
       "    leak_rate_scfh      source\n",
       "25        0.000001  CARB study\n",
       "10        0.000085  CARB study\n",
       "32        0.000124  CARB study\n",
       "1         0.000140  CARB study\n",
       "30        0.000234  CARB study"
      ]
     },
     "execution_count": 12,
     "metadata": {},
     "output_type": "execute_result"
    }
   ],
   "source": [
    "#Drop every other column except leak_rate_scfh to simplify analysis\n",
    "combined = combined[['leak_rate_scfh', 'source']]\n",
    "combined.sort_values(by = ['leak_rate_scfh'], ascending = True, inplace=True)\n",
    "combined.head()"
   ]
  },
  {
   "cell_type": "code",
   "execution_count": 13,
   "metadata": {},
   "outputs": [],
   "source": [
    "#Bins for partitioning the data based on observations of GTI experimental data, 4 categories\n",
    "ground = 0\n",
    "max_c = 0.014\n",
    "max_b = 4  # previously 2\n",
    "max_a = 25 # previously 25"
   ]
  },
  {
   "cell_type": "code",
   "execution_count": 14,
   "metadata": {},
   "outputs": [
    {
     "data": {
      "image/png": "[encoded data removed]",
      "text/plain": [
       "<Figure size 432x288 with 1 Axes>"
      ]
     },
     "metadata": {
      "needs_background": "light"
     },
     "output_type": "display_data"
    }
   ],
   "source": [
    "#Plot the ECDF of the combined dataset\n",
    "combined_flow_rate, combined_ecdf =dcst.ecdf(combined.leak_rate_scfh)\n",
    "combined['ecdf'] = combined_ecdf\n",
    "_ = sns.scatterplot(x='leak_rate_scfh', y='ecdf', hue = 'source', data=combined)\n",
    "_ = _.set(xscale=\"log\")\n",
    "_ = plt.xlim(0.000001, 30)\n",
    "_ = plt.title('Combined CARB and GTI data')\n",
    "_ = plt.xlabel('Leak rate (scfh)')\n",
    "_ = plt.ylabel('ECDF')\n",
    "_ = plt.margins(0.02)\n",
    "\n",
    "#Draw vertical lines to mark the ranges for each bin (based on observations in GTI experiment)\n",
    "_ = plt.axvline(max_c, 0.01, 0.98, lw=0.9, ls ='--', color='brown', alpha=0.9)\n",
    "_ = plt.axvline(max_b, 0.01, 0.98, lw=0.9, ls ='--', color='brown', alpha=0.9)\n",
    "\n",
    "#Draw text in the plot to mark regions of each bin\n",
    "_ = plt.text(x=0.0003, y= 0.7, s='c', color='black', alpha =0.7)\n",
    "_ = plt.text(x=0.15, y= 0.7, s='b', color='black', alpha =0.7)\n",
    "_ = plt.text(x=11, y= 0.7, s='a', color='black', alpha =0.7)\n",
    "\n",
    "plt.show()\n",
    "\n",
    "#There is an outlier on the left side around 1.4E-6 in size from the CARB study\n",
    "#The largest leak found during the CARB study was 0.097 scfh\n",
    "#The maximum size tested at GTI is 25 scfh"
   ]
  },
  {
   "cell_type": "code",
   "execution_count": 15,
   "metadata": {},
   "outputs": [
    {
     "data": {
      "image/png": "[encoded data removed]",
      "text/plain": [
       "<Figure size 432x288 with 1 Axes>"
      ]
     },
     "metadata": {
      "needs_background": "light"
     },
     "output_type": "display_data"
    }
   ],
   "source": [
    "#Plot the pdf of the dataset\n",
    "LogMin, LogMax = np.log10(combined.leak_rate_scfh.min()),np.log10(combined.leak_rate_scfh.max())\n",
    "newBins = np.logspace(LogMin, LogMax, 20)\n",
    "\n",
    "ax = sns.distplot(combined.leak_rate_scfh, kde=False, bins = newBins, rug=True)\n",
    "ax.set(xscale=\"log\")\n",
    "_ = plt.title('PDF of combined data')\n",
    "_ = plt.xlabel('Leak rate (scfh)')\n",
    "_ = plt.ylabel('Count')\n",
    "_ = plt.xlim(0.000001, 30)\n",
    "\n",
    "#Draw vertical lines to mark the ranges for each bin (based on observations in GTI experiment)\n",
    "_ = plt.axvline(max_c, 0.01, 0.98, lw=0.9, ls ='--', color='brown', alpha=0.9)\n",
    "_ = plt.axvline(max_b, 0.01, 0.98, lw=0.9, ls ='--', color='brown', alpha=0.9)\n",
    "\n",
    "#Draw text in the plot to mark regions of each bin\n",
    "_ = plt.text(x=0.0003, y= 22, s='c', color='black', alpha =0.7)\n",
    "_ = plt.text(x=0.15, y= 22, s='b', color='black', alpha =0.7)\n",
    "_ = plt.text(x=11, y= 22, s='a', color='black', alpha =0.7)\n",
    "\n",
    "plt.show()"
   ]
  },
  {
   "cell_type": "code",
   "execution_count": 16,
   "metadata": {},
   "outputs": [
    {
     "name": "stdout",
     "output_type": "stream",
     "text": [
      "the total number of data points should be 162:  162\n"
     ]
    }
   ],
   "source": [
    "grp_c = combined[combined.leak_rate_scfh <= max_c]['leak_rate_scfh']\n",
    "grp_b = combined[(combined.leak_rate_scfh > max_c) & (combined.leak_rate_scfh <= max_b)]['leak_rate_scfh']\n",
    "grp_a = combined[(combined.leak_rate_scfh > max_b)]['leak_rate_scfh']\n",
    "\n",
    "print(\"the total number of data points should be 162: \", (grp_c.shape[0] + grp_b.shape[0] + \n",
    "                                                          grp_a.shape[0]))\n",
    "\n",
    "#if the total is 162, it means that we are not losing any data"
   ]
  },
  {
   "cell_type": "code",
   "execution_count": 17,
   "metadata": {},
   "outputs": [],
   "source": [
    "d = {   'c':grp_c.shape[0],\n",
    "        'b':grp_b.shape[0],\n",
    "        'a':grp_a.shape[0]}\n",
    "\n",
    "#Create a table with the number of data points for each category\n",
    "tally = pd.DataFrame(list(d.items()), columns =['category', 'number_of_points'])"
   ]
  },
  {
   "cell_type": "code",
   "execution_count": 18,
   "metadata": {},
   "outputs": [
    {
     "data": {
      "text/html": [
       "<div>\n",
       "<style scoped>\n",
       "    .dataframe tbody tr th:only-of-type {\n",
       "        vertical-align: middle;\n",
       "    }\n",
       "\n",
       "    .dataframe tbody tr th {\n",
       "        vertical-align: top;\n",
       "    }\n",
       "\n",
       "    .dataframe thead th {\n",
       "        text-align: right;\n",
       "    }\n",
       "</style>\n",
       "<table border=\"1\" class=\"dataframe\">\n",
       "  <thead>\n",
       "    <tr style=\"text-align: right;\">\n",
       "      <th></th>\n",
       "      <th>category</th>\n",
       "      <th>number_of_points</th>\n",
       "      <th>mean_rate_scfh</th>\n",
       "      <th>median_rate_scfh</th>\n",
       "      <th>decription</th>\n",
       "    </tr>\n",
       "  </thead>\n",
       "  <tbody>\n",
       "    <tr>\n",
       "      <th>0</th>\n",
       "      <td>c</td>\n",
       "      <td>54</td>\n",
       "      <td>0.0038</td>\n",
       "      <td>0.002</td>\n",
       "      <td>Soap solution creates foam with little to no v...</td>\n",
       "    </tr>\n",
       "    <tr>\n",
       "      <th>1</th>\n",
       "      <td>b</td>\n",
       "      <td>83</td>\n",
       "      <td>1.4033</td>\n",
       "      <td>1.000</td>\n",
       "      <td>Soap solution can hold a cluster of bubbles (s...</td>\n",
       "    </tr>\n",
       "    <tr>\n",
       "      <th>2</th>\n",
       "      <td>a</td>\n",
       "      <td>25</td>\n",
       "      <td>10.4000</td>\n",
       "      <td>5.000</td>\n",
       "      <td>Soap solution is blown off</td>\n",
       "    </tr>\n",
       "  </tbody>\n",
       "</table>\n",
       "</div>"
      ],
      "text/plain": [
       "  category  number_of_points  mean_rate_scfh  median_rate_scfh  \\\n",
       "0        c                54          0.0038             0.002   \n",
       "1        b                83          1.4033             1.000   \n",
       "2        a                25         10.4000             5.000   \n",
       "\n",
       "                                          decription  \n",
       "0  Soap solution creates foam with little to no v...  \n",
       "1  Soap solution can hold a cluster of bubbles (s...  \n",
       "2                         Soap solution is blown off  "
      ]
     },
     "execution_count": 18,
     "metadata": {},
     "output_type": "execute_result"
    }
   ],
   "source": [
    "mean_c = round(np.mean(grp_c), 4)\n",
    "mean_b = round(np.mean(grp_b), 4)\n",
    "mean_a = round(np.mean(grp_a), 4)\n",
    "\n",
    "median_c = round(np.median(grp_c), 4)\n",
    "median_b = round(np.median(grp_b), 4)\n",
    "median_a = round(np.median(grp_a), 4)\n",
    "\n",
    "tally['mean_rate_scfh'] = [mean_c, mean_b, mean_a]\n",
    "tally['median_rate_scfh'] = [median_c, median_b, median_a]\n",
    "tally['decription'] = ['Soap solution creates foam with little to no visible bubbles',\n",
    "                       'Soap solution can hold a cluster of bubbles (small to medium), including small bubbles', \n",
    "                       'Soap solution is blown off']\n",
    "tally"
   ]
  },
  {
   "cell_type": "code",
   "execution_count": 19,
   "metadata": {},
   "outputs": [
    {
     "data": {
      "image/png": "[encoded data removed]",
      "text/plain": [
       "<Figure size 432x288 with 1 Axes>"
      ]
     },
     "metadata": {
      "needs_background": "light"
     },
     "output_type": "display_data"
    }
   ],
   "source": [
    "#Plot the ECDF of the combined dataset\n",
    "_ = sns.scatterplot(x='leak_rate_scfh', y='ecdf', hue ='source', data=combined, alpha =0.85)\n",
    "_ = _.set(xscale=\"log\")\n",
    "_ = plt.xlim(0.000001, 35)\n",
    "_ = plt.title('Combined CARB and GTI data')\n",
    "_ = plt.xlabel('Leak rate (scfh)')\n",
    "_ = plt.ylabel('ECDF')\n",
    "_ = plt.margins(0.02)\n",
    "\n",
    "#Draw vertical lines to mark the ranges for each bin (based on observations in GTI experiment)\n",
    "_ = plt.axvline(max_c, 0.01, 0.98, lw=0.9, ls ='--', color='brown', alpha=0.9)\n",
    "_ = plt.axvline(max_b, 0.01, 0.98, lw=0.9, ls ='--', color='brown', alpha=0.9)\n",
    "\n",
    "#Draw text in the plot to mark regions of each bin\n",
    "_ = plt.text(x=0.0003, y= 0.7, s='c', color='black', alpha =0.7)\n",
    "_ = plt.text(x=0.15, y= 0.7, s='b', color='black', alpha =0.7)\n",
    "_ = plt.text(x=11, y= 0.7, s='a', color='black', alpha =0.7)\n",
    "\n",
    "#Add green dots in each group to show where the mean is\n",
    "_= plt.plot(mean_c, 0.01, color = 'green', marker ='.', markersize = 7)\n",
    "_= plt.plot(mean_b, 0.01, color = 'green', marker ='.', markersize = 7)\n",
    "_= plt.plot(mean_a, 0.01, color = 'green', marker ='.', markersize = 7)\n",
    "\n",
    "_= plt.annotate('mean', \n",
    "                xy=(mean_a, 0.03), \n",
    "                xytext =(mean_a - 0.1, 0.16),\n",
    "                arrowprops = {'facecolor': 'green', 'headwidth': 7, 'width': 2}, \n",
    "                color='green')\n",
    "\n",
    "plt.show()"
   ]
  },
  {
   "cell_type": "code",
   "execution_count": 20,
   "metadata": {},
   "outputs": [],
   "source": [
    "#Create the x values and ecdf to plot the ecdf of each \n",
    "c_flow, c_ecdf =dcst.ecdf(grp_c)\n",
    "b_flow, b_ecdf =dcst.ecdf(grp_b)\n",
    "a_flow, a_ecdf =dcst.ecdf(grp_a)"
   ]
  },
  {
   "cell_type": "code",
   "execution_count": null,
   "metadata": {},
   "outputs": [],
   "source": []
  },
  {
   "cell_type": "code",
   "execution_count": 21,
   "metadata": {},
   "outputs": [
    {
     "data": {
      "image/png": "[encoded data removed]",
      "text/plain": [
       "<Figure size 432x288 with 1 Axes>"
      ]
     },
     "metadata": {
      "needs_background": "light"
     },
     "output_type": "display_data"
    }
   ],
   "source": [
    "_ = sns.scatterplot(x=c_flow, y=c_ecdf)\n",
    "_ = plt.title('Category C')\n",
    "_ = plt.ylabel('ECDF')\n",
    "_ = plt.xlabel('Leak rate (scfh)')\n",
    "_= plt.axvline(mean_c, 0.01, 0.98, color = 'green',ls = '--', lw = 1.5)\n",
    "_= plt.annotate('mean', \n",
    "                xy=(mean_c, 0.2), \n",
    "                xytext =(mean_c + 0.01, 0.3),\n",
    "                arrowprops = {'facecolor': 'green', 'headwidth': 7, 'width': 2}, \n",
    "                color='green')\n",
    "\n",
    "plt.show()"
   ]
  },
  {
   "cell_type": "code",
   "execution_count": 22,
   "metadata": {},
   "outputs": [
    {
     "data": {
      "image/png": "[encoded data removed]",
      "text/plain": [
       "<Figure size 432x288 with 1 Axes>"
      ]
     },
     "metadata": {
      "needs_background": "light"
     },
     "output_type": "display_data"
    }
   ],
   "source": [
    "_ = sns.scatterplot(x=b_flow, y=b_ecdf)\n",
    "_ = plt.title('Category B')\n",
    "_ = plt.ylabel('ECDF')\n",
    "_ = plt.xlabel('Leak rate (scfh)')\n",
    "_= plt.axvline(mean_b, 0.01, 0.98, color = 'green',ls = '--', lw = 1.5)\n",
    "_= plt.annotate('mean', \n",
    "                xy=(mean_b, 0.2), \n",
    "                xytext =(mean_b + 0.2, 0.3),\n",
    "                arrowprops = {'facecolor': 'green', 'headwidth': 7, 'width': 2}, \n",
    "                color='green')\n",
    "\n",
    "plt.show()"
   ]
  },
  {
   "cell_type": "code",
   "execution_count": 23,
   "metadata": {},
   "outputs": [
    {
     "data": {
      "image/png": "[encoded data removed]",
      "text/plain": [
       "<Figure size 432x288 with 1 Axes>"
      ]
     },
     "metadata": {
      "needs_background": "light"
     },
     "output_type": "display_data"
    }
   ],
   "source": [
    "_ = sns.scatterplot(x=a_flow, y=a_ecdf)\n",
    "_ = plt.title('Category A')\n",
    "_ = plt.ylabel('ECDF')\n",
    "_ = plt.xlabel('Leak rate (scfh)')\n",
    "_= plt.axvline(mean_a, 0.01, 0.98, color = 'green',ls = '--', lw = 1.5)\n",
    "_= plt.annotate('mean', \n",
    "                xy=(mean_a, 0.2), \n",
    "                xytext =(mean_a + 2, 0.3),\n",
    "                arrowprops = {'facecolor': 'green', 'headwidth': 7, 'width': 2}, \n",
    "                color='green')\n",
    "\n",
    "plt.show()"
   ]
  },
  {
   "cell_type": "code",
   "execution_count": 24,
   "metadata": {},
   "outputs": [
    {
     "data": {
      "text/html": [
       "<div>\n",
       "<style scoped>\n",
       "    .dataframe tbody tr th:only-of-type {\n",
       "        vertical-align: middle;\n",
       "    }\n",
       "\n",
       "    .dataframe tbody tr th {\n",
       "        vertical-align: top;\n",
       "    }\n",
       "\n",
       "    .dataframe thead th {\n",
       "        text-align: right;\n",
       "    }\n",
       "</style>\n",
       "<table border=\"1\" class=\"dataframe\">\n",
       "  <thead>\n",
       "    <tr style=\"text-align: right;\">\n",
       "      <th></th>\n",
       "      <th>DAE.ID</th>\n",
       "      <th>COMPANY</th>\n",
       "      <th>SITE.ID</th>\n",
       "      <th>BUBBLE.SEEN</th>\n",
       "      <th>leak_rate_scfh</th>\n",
       "      <th>TOOL.USED</th>\n",
       "      <th>LEAKING.COMPONENT</th>\n",
       "      <th>source</th>\n",
       "    </tr>\n",
       "  </thead>\n",
       "  <tbody>\n",
       "    <tr>\n",
       "      <th>0</th>\n",
       "      <td>14</td>\n",
       "      <td>Socal</td>\n",
       "      <td>17080714.0</td>\n",
       "      <td>Bubbles.Seen</td>\n",
       "      <td>0.008595</td>\n",
       "      <td>Bag</td>\n",
       "      <td>Valve</td>\n",
       "      <td>CARB study</td>\n",
       "    </tr>\n",
       "    <tr>\n",
       "      <th>2</th>\n",
       "      <td>23</td>\n",
       "      <td>Socal</td>\n",
       "      <td>17080723.0</td>\n",
       "      <td>Bubbles.Seen</td>\n",
       "      <td>0.000140</td>\n",
       "      <td>NaN</td>\n",
       "      <td>Elbow</td>\n",
       "      <td>CARB study</td>\n",
       "    </tr>\n",
       "    <tr>\n",
       "      <th>3</th>\n",
       "      <td>27</td>\n",
       "      <td>Socal</td>\n",
       "      <td>17080727.0</td>\n",
       "      <td>Bubbles.Seen</td>\n",
       "      <td>0.000640</td>\n",
       "      <td>NaN</td>\n",
       "      <td>Bushing</td>\n",
       "      <td>CARB study</td>\n",
       "    </tr>\n",
       "    <tr>\n",
       "      <th>4</th>\n",
       "      <td>43</td>\n",
       "      <td>Socal</td>\n",
       "      <td>17080813.0</td>\n",
       "      <td>Bubbles.Seen</td>\n",
       "      <td>0.009125</td>\n",
       "      <td>NaN</td>\n",
       "      <td>Coupling</td>\n",
       "      <td>CARB study</td>\n",
       "    </tr>\n",
       "    <tr>\n",
       "      <th>7</th>\n",
       "      <td>70</td>\n",
       "      <td>Socal</td>\n",
       "      <td>17080840.0</td>\n",
       "      <td>Bubbles.Seen</td>\n",
       "      <td>0.015480</td>\n",
       "      <td>NaN</td>\n",
       "      <td>Tee</td>\n",
       "      <td>CARB study</td>\n",
       "    </tr>\n",
       "  </tbody>\n",
       "</table>\n",
       "</div>"
      ],
      "text/plain": [
       "   DAE.ID COMPANY     SITE.ID   BUBBLE.SEEN  leak_rate_scfh TOOL.USED  \\\n",
       "0      14   Socal  17080714.0  Bubbles.Seen        0.008595       Bag   \n",
       "2      23   Socal  17080723.0  Bubbles.Seen        0.000140       NaN   \n",
       "3      27   Socal  17080727.0  Bubbles.Seen        0.000640       NaN   \n",
       "4      43   Socal  17080813.0  Bubbles.Seen        0.009125       NaN   \n",
       "7      70   Socal  17080840.0  Bubbles.Seen        0.015480       NaN   \n",
       "\n",
       "  LEAKING.COMPONENT      source  \n",
       "0             Valve  CARB study  \n",
       "2             Elbow  CARB study  \n",
       "3           Bushing  CARB study  \n",
       "4          Coupling  CARB study  \n",
       "7               Tee  CARB study  "
      ]
     },
     "execution_count": 24,
     "metadata": {},
     "output_type": "execute_result"
    }
   ],
   "source": [
    "#Part 2#\n",
    "# Simulate a non-normal distribution to fit the CARB data\n",
    "carb.head()"
   ]
  },
  {
   "cell_type": "code",
   "execution_count": 25,
   "metadata": {},
   "outputs": [
    {
     "data": {
      "text/html": [
       "<div>\n",
       "<style scoped>\n",
       "    .dataframe tbody tr th:only-of-type {\n",
       "        vertical-align: middle;\n",
       "    }\n",
       "\n",
       "    .dataframe tbody tr th {\n",
       "        vertical-align: top;\n",
       "    }\n",
       "\n",
       "    .dataframe thead th {\n",
       "        text-align: right;\n",
       "    }\n",
       "</style>\n",
       "<table border=\"1\" class=\"dataframe\">\n",
       "  <thead>\n",
       "    <tr style=\"text-align: right;\">\n",
       "      <th></th>\n",
       "      <th>count</th>\n",
       "      <th>Fraction</th>\n",
       "    </tr>\n",
       "    <tr>\n",
       "      <th>Original Leak Grade</th>\n",
       "      <th></th>\n",
       "      <th></th>\n",
       "    </tr>\n",
       "  </thead>\n",
       "  <tbody>\n",
       "    <tr>\n",
       "      <th>N/A</th>\n",
       "      <td>146825</td>\n",
       "      <td>NaN</td>\n",
       "    </tr>\n",
       "    <tr>\n",
       "      <th>3</th>\n",
       "      <td>33201</td>\n",
       "      <td>0.873</td>\n",
       "    </tr>\n",
       "    <tr>\n",
       "      <th>2</th>\n",
       "      <td>2569</td>\n",
       "      <td>0.068</td>\n",
       "    </tr>\n",
       "    <tr>\n",
       "      <th>1</th>\n",
       "      <td>2255</td>\n",
       "      <td>0.059</td>\n",
       "    </tr>\n",
       "    <tr>\n",
       "      <th>Total</th>\n",
       "      <td>184850</td>\n",
       "      <td>1</td>\n",
       "    </tr>\n",
       "  </tbody>\n",
       "</table>\n",
       "</div>"
      ],
      "text/plain": [
       "                      count Fraction\n",
       "Original Leak Grade                 \n",
       "N/A                  146825      NaN\n",
       "3                     33201    0.873\n",
       "2                      2569    0.068\n",
       "1                      2255    0.059\n",
       "Total                184850        1"
      ]
     },
     "execution_count": 25,
     "metadata": {},
     "output_type": "execute_result"
    }
   ],
   "source": [
    "#original leak grade counts for 2018 PG&E MSA leak data\n",
    "na = 146825\n",
    "gr_3 = 33201\n",
    "gr_2 = 2569\n",
    "gr_1 = 2255\n",
    "\n",
    "#pre-repair leak grade counts\n",
    "#na = 146825 + 2967  #include \"not available as N/A\"\n",
    "#gr_3 = 29342\n",
    "#gr_0 = 1004\n",
    "#gr_2 = 2492 + 1  #include grade 2+\n",
    "#gr_1 = 2225\n",
    "\n",
    "#Need to identify the proportion of leaks at PG&E that are grade 3 and 0 as a fraction of total leaks\n",
    "di = {'N/A': na,\n",
    "        3: gr_3,\n",
    "        2: gr_2,\n",
    "        1: gr_1,\n",
    "       'Total': na + gr_1 + gr_2 + gr_3\n",
    "      }\n",
    "\n",
    "pge_msa = pd.DataFrame(list(di.items()), columns =['Original Leak Grade', 'count'])\n",
    "pre_total = gr_3 + gr_1 + gr_2\n",
    "pge_msa['Fraction'] = ['NaN', \n",
    "                        round(gr_3 /pre_total, 3),\n",
    "                        round(gr_2 /pre_total, 3),\n",
    "                        round(gr_1 /pre_total, 3),\n",
    "                        (gr_1 + gr_2 + gr_3) /pre_total]\n",
    "\n",
    "#Fraction of PG&E MSA that has leak grade 0 and 3 out of all leaks\n",
    "pge_msa.set_index('Original Leak Grade')"
   ]
  },
  {
   "cell_type": "code",
   "execution_count": 26,
   "metadata": {},
   "outputs": [
    {
     "name": "stdout",
     "output_type": "stream",
     "text": [
      "Fraction of MSA leaks that are grade 0 and 3: 0.873\n"
     ]
    }
   ],
   "source": [
    "small_leak_fraction = gr_3/pre_total\n",
    "print(\"Fraction of MSA leaks that are grade 0 and 3:\", round((small_leak_fraction),3))"
   ]
  },
  {
   "cell_type": "code",
   "execution_count": 186,
   "metadata": {},
   "outputs": [
    {
     "name": "stdout",
     "output_type": "stream",
     "text": [
      "36.49444579112127\n",
      "9.207844718928632e-07\n"
     ]
    }
   ],
   "source": [
    "# the lognormal function in numpy takes in two key parameters, mean (mu) and stdev (sigma)\n",
    "#Need to tweak this to get a curve that fits GTI CARB data\n",
    "# mu = 0.002, sigma =2.2, size = 2000)\n",
    "\n",
    "mu, sigma = 0.001, 2.6   # previously mu = 0.001, sigma = 2.5\n",
    "\n",
    "np.random.seed(57) # same random seed as 4 classifications\n",
    "\n",
    "lognormal = np.random.lognormal(mu, sigma, size = 2500)\n",
    "\n",
    "x, y =dcst.ecdf(lognormal)\n",
    "#skew the x data so it starts from very small values\n",
    "skew_x = x/200\n",
    "print(skew_x.max())\n",
    "print(skew_x.min())"
   ]
  },
  {
   "cell_type": "code",
   "execution_count": 187,
   "metadata": {},
   "outputs": [],
   "source": [
    "#create a dataframe for simulated distribution for easier processing\n",
    "sim= pd.DataFrame(skew_x, columns=['leak_rate_scfh'])\n",
    "\n",
    "#create arrays of data for each leak category\n",
    "grp_c_sim = sim[(sim.leak_rate_scfh <= max_c)]['leak_rate_scfh']\n",
    "grp_b_sim = sim[(sim.leak_rate_scfh > max_c) & (sim.leak_rate_scfh <= max_b)]['leak_rate_scfh']\n",
    "grp_a_sim = sim[(sim.leak_rate_scfh > max_b)]['leak_rate_scfh']"
   ]
  },
  {
   "cell_type": "code",
   "execution_count": 188,
   "metadata": {},
   "outputs": [],
   "source": [
    "d_sim = {'c':grp_c_sim.shape[0],\n",
    "        'b':grp_b_sim.shape[0],\n",
    "        'a':grp_a_sim.shape[0]}\n",
    "\n",
    "#Create a table with the number of data points for each category\n",
    "tally_sim = pd.DataFrame(list(d_sim.items()), columns =['category', 'number_of_points'])"
   ]
  },
  {
   "cell_type": "code",
   "execution_count": 189,
   "metadata": {},
   "outputs": [],
   "source": [
    "mean_c = round(np.mean(grp_c_sim), 4)\n",
    "mean_b = round(np.mean(grp_b_sim), 4)\n",
    "mean_a = round(np.mean(grp_a_sim), 4)\n",
    "\n",
    "median_c = round(np.median(grp_c_sim), 4)\n",
    "median_b = round(np.median(grp_b_sim), 4)\n",
    "median_a = round(np.median(grp_a_sim), 4)\n",
    "\n",
    "tally_sim['simulated_fraction'] = tally_sim['number_of_points']/tally_sim.number_of_points.sum()\n",
    "tally_sim['mean_rate_scfh'] = [mean_c, mean_b, mean_a]\n",
    "tally_sim['median_rate_scfh'] = [median_c, median_b, median_a]\n",
    "tally_sim['description'] = ['Foam with little to no bubbles',\n",
    "                       'A cluster of small to medium bubbles', \n",
    "                       'Soap solution is blown off']\n",
    "tally_sim['msa_leak_fraction'] = np.divide([gr_3, gr_2, gr_1], pre_total)\n",
    "tally_sim['msa_leak_fraction'] = round(tally_sim['msa_leak_fraction'], 4)\n",
    "\n",
    "tally_sim = tally_sim[['category', 'description', 'number_of_points', 'mean_rate_scfh', 'median_rate_scfh', 'simulated_fraction', 'msa_leak_fraction']]"
   ]
  },
  {
   "cell_type": "code",
   "execution_count": 192,
   "metadata": {},
   "outputs": [
    {
     "data": {
      "text/plain": [
       "38025"
      ]
     },
     "execution_count": 192,
     "metadata": {},
     "output_type": "execute_result"
    }
   ],
   "source": [
    "pre_total"
   ]
  },
  {
   "cell_type": "code",
   "execution_count": 193,
   "metadata": {},
   "outputs": [
    {
     "data": {
      "text/html": [
       "<div>\n",
       "<style scoped>\n",
       "    .dataframe tbody tr th:only-of-type {\n",
       "        vertical-align: middle;\n",
       "    }\n",
       "\n",
       "    .dataframe tbody tr th {\n",
       "        vertical-align: top;\n",
       "    }\n",
       "\n",
       "    .dataframe thead th {\n",
       "        text-align: right;\n",
       "    }\n",
       "</style>\n",
       "<table border=\"1\" class=\"dataframe\">\n",
       "  <thead>\n",
       "    <tr style=\"text-align: right;\">\n",
       "      <th></th>\n",
       "      <th>category</th>\n",
       "      <th>description</th>\n",
       "      <th>number_of_points</th>\n",
       "      <th>mean_rate_scfh</th>\n",
       "      <th>median_rate_scfh</th>\n",
       "      <th>simulated_fraction</th>\n",
       "      <th>msa_leak_fraction</th>\n",
       "    </tr>\n",
       "  </thead>\n",
       "  <tbody>\n",
       "    <tr>\n",
       "      <th>0</th>\n",
       "      <td>c</td>\n",
       "      <td>Foam with little to no bubbles</td>\n",
       "      <td>1665</td>\n",
       "      <td>0.0032</td>\n",
       "      <td>0.0016</td>\n",
       "      <td>0.6660</td>\n",
       "      <td>0.8731</td>\n",
       "    </tr>\n",
       "    <tr>\n",
       "      <th>1</th>\n",
       "      <td>b</td>\n",
       "      <td>A cluster of small to medium bubbles</td>\n",
       "      <td>818</td>\n",
       "      <td>0.2309</td>\n",
       "      <td>0.0637</td>\n",
       "      <td>0.3272</td>\n",
       "      <td>0.0676</td>\n",
       "    </tr>\n",
       "    <tr>\n",
       "      <th>2</th>\n",
       "      <td>a</td>\n",
       "      <td>Soap solution is blown off</td>\n",
       "      <td>17</td>\n",
       "      <td>9.4972</td>\n",
       "      <td>7.3371</td>\n",
       "      <td>0.0068</td>\n",
       "      <td>0.0593</td>\n",
       "    </tr>\n",
       "  </tbody>\n",
       "</table>\n",
       "</div>"
      ],
      "text/plain": [
       "  category                           description  number_of_points  \\\n",
       "0        c        Foam with little to no bubbles              1665   \n",
       "1        b  A cluster of small to medium bubbles               818   \n",
       "2        a            Soap solution is blown off                17   \n",
       "\n",
       "   mean_rate_scfh  median_rate_scfh  simulated_fraction  msa_leak_fraction  \n",
       "0          0.0032            0.0016              0.6660             0.8731  \n",
       "1          0.2309            0.0637              0.3272             0.0676  \n",
       "2          9.4972            7.3371              0.0068             0.0593  "
      ]
     },
     "execution_count": 193,
     "metadata": {},
     "output_type": "execute_result"
    }
   ],
   "source": [
    "tally_sim"
   ]
  },
  {
   "cell_type": "code",
   "execution_count": 194,
   "metadata": {},
   "outputs": [],
   "source": [
    "#Shrink CARB data so the ECDF is capped at the fraction of leaks that are in grade 0 and 3. \n",
    "# We do this because CARB data has small leaks with the largest one being 0.1 scfh so it represents leaks in\n",
    "# the small categories\n",
    "capped_carb_ecdf = carb_ecdf*small_leak_fraction"
   ]
  },
  {
   "cell_type": "code",
   "execution_count": 195,
   "metadata": {},
   "outputs": [
    {
     "data": {
      "image/png": "[encoded data removed]",
      "text/plain": [
       "<Figure size 504x360 with 1 Axes>"
      ]
     },
     "metadata": {
      "needs_background": "light"
     },
     "output_type": "display_data"
    }
   ],
   "source": [
    "#Plot pdf of simulated distribution versus PG&E data\n",
    "# set width of bar\n",
    "barWidth = 0.4\n",
    " \n",
    "# set height of bar\n",
    "bars1 = list(tally_sim.simulated_fraction)\n",
    "bars2 = list(tally_sim.msa_leak_fraction)\n",
    " \n",
    "# Set position of bar on X axis\n",
    "r1 = np.arange(len(bars1))\n",
    "r2 = [x + barWidth for x in r1]\n",
    " \n",
    "# Make the plot\n",
    "plt.figure(figsize=(7,5))\n",
    "plt.bar(r1, bars1, width=barWidth, edgecolor='white', label='simulated', alpha=0.9)\n",
    "plt.bar(r2, bars2, width=barWidth, edgecolor='white', label='PG&E MSA data', alpha=0.9)\n",
    " \n",
    "# Add xticks on the middle of the group bars\n",
    "plt.xlabel('Soap test categories - Leak grade', fontsize='large')\n",
    "plt.xticks([r*0.89 + barWidth for r in range(len(bars1))], ['c - Grade 3         ', '  b - Grade 2   ', 'a - Grade 1'])\n",
    "plt.ylabel('fraction', fontsize='large')\n",
    "plt.title('Simulated vs. Observed proportions')\n",
    "\n",
    "#add labels above each bar\n",
    "for i, v in enumerate(bars1):\n",
    "    plt.text(i-0.12, v+0.01, str(round(v,3)), color='dimgray', fontsize='medium')\n",
    "    \n",
    "for i, v in enumerate(bars2):\n",
    "    plt.text(i+0.3, v+0.01, str(round(v,3)), color='dimgray', fontsize='medium')\n",
    "    \n",
    "# Create legend & Show graphic\n",
    "plt.legend(fontsize='large')\n",
    "plt.xticks(size=12)\n",
    "plt.yticks(size=12)\n",
    "plt.show()\n"
   ]
  },
  {
   "cell_type": "code",
   "execution_count": 196,
   "metadata": {},
   "outputs": [
    {
     "data": {
      "image/png": "[encoded data removed]",
      "text/plain": [
       "<Figure size 540x396 with 1 Axes>"
      ]
     },
     "metadata": {
      "needs_background": "light"
     },
     "output_type": "display_data"
    }
   ],
   "source": [
    "_=plt.figure(figsize=(7.5,5.5))\n",
    "_=plt.semilogx(skew_x, y, marker ='.', linestyle='none', alpha=0.55)\n",
    "_=plt.semilogx(carb_flow_rate, capped_carb_ecdf, marker='.', linestyle='none', color='orange')\n",
    "_=plt.xlim(0.000001, 28)\n",
    "_=plt.legend(['Simulated lognormal', 'CARB data'], loc ='upper left', fontsize = 'large')\n",
    "_=plt.xlabel('Leak rate (scfh)')\n",
    "_=plt.ylabel('CDF')\n",
    "_=plt.title('Fitted lognormal distribution', fontsize=16)\n",
    "\n",
    "#Draw vertical lines to mark the ranges for each bin (based on observations in GTI experiment)\n",
    "_ = plt.axvline(max_c, 0.04, 0.96, lw=1, ls ='--', color='saddlebrown', alpha=0.7)\n",
    "_ = plt.axvline(max_b, 0.04, 0.96, lw=1, ls ='--', color='saddlebrown', alpha=0.7)\n",
    "\n",
    "#Draw text in the plot to mark regions of each bin\n",
    "_ = plt.text(x=0.0006, y= 0.5, s='c', color='black', alpha =0.9, fontsize=12)\n",
    "_ = plt.text(x=0.15, y= 0.5, s='b', color='black', alpha =0.9, fontsize=12)\n",
    "_ = plt.text(x=11, y= 0.5, s='a', color='black', alpha =0.9, fontsize=12)\n",
    "\n",
    "#Add green dots in each group to show where the mean is\n",
    "_= plt.plot(mean_c, 0.01, color = 'green', marker ='.', markersize = 8)\n",
    "_= plt.plot(mean_b, 0.01, color = 'green', marker ='.', markersize = 8)\n",
    "_= plt.plot(mean_a, 0.01, color = 'green', marker ='.', markersize = 8)\n",
    "\n",
    "_= plt.annotate('mean', \n",
    "                xy=(mean_a, 0.03), \n",
    "                xytext =(mean_a - 0.1, 0.16),\n",
    "                arrowprops = {'facecolor': 'green', 'headwidth': 7, 'width': 2}, \n",
    "                color='green',\n",
    "                fontsize =12)\n",
    "\n",
    "_= plt.annotate('CARB data capped at\\n87.3% similar to % of\\ngrade 3 leaks in PG&E\\ndata', \n",
    "                xy=(0.11, 0.865), \n",
    "                xytext =(0.5, 0.74),\n",
    "                arrowprops = {'facecolor': 'darkorange', 'headwidth': 7, 'width': 2}, \n",
    "                color='saddlebrown', fontsize='small', alpha = 0.99, backgroundcolor= 'gainsboro')\n",
    "\n",
    "\n",
    "plt.xticks(size=12)\n",
    "plt.yticks(size=12)\n",
    "plt.show()"
   ]
  },
  {
   "cell_type": "code",
   "execution_count": null,
   "metadata": {},
   "outputs": [],
   "source": []
  },
  {
   "cell_type": "code",
   "execution_count": null,
   "metadata": {},
   "outputs": [],
   "source": []
  },
  {
   "cell_type": "code",
   "execution_count": null,
   "metadata": {},
   "outputs": [],
   "source": []
  }
 ],
 "metadata": {
  "kernelspec": {
   "display_name": "Python 3",
   "language": "python",
   "name": "python3"
  },
  "language_info": {
   "codemirror_mode": {
    "name": "ipython",
    "version": 3
   },
   "file_extension": ".py",
   "mimetype": "text/x-python",
   "name": "python",
   "nbconvert_exporter": "python",
   "pygments_lexer": "ipython3",
   "version": "3.7.1"
  }
 },
 "nbformat": 4,
 "nbformat_minor": 2
}
