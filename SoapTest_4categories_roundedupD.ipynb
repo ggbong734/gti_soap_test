{
 "cells": [
  {
   "cell_type": "code",
   "execution_count": 1,
   "metadata": {},
   "outputs": [],
   "source": [
    "import pandas as pd\n",
    "import matplotlib.pyplot as plt\n",
    "import matplotlib.style as style\n",
    "style.use('fivethirtyeight')\n",
    "import seaborn as sns\n",
    "import numpy as np\n",
    "import dc_stat_think as dcst # import dc_stat_think package from Datacamp for bootstrap and ecdf calculation\n",
    "\n",
    "import scipy.stats as stats"
   ]
  },
  {
   "cell_type": "code",
   "execution_count": 2,
   "metadata": {},
   "outputs": [],
   "source": [
    "#Import CARB GTI 2018 study on residential meter sets, \n",
    "#The csv file only includes measurements where bubbles were seen (data where bubbles were not observed are excluded)\n",
    "carb = pd.read_csv('CARB_res_meter_set.csv') \n",
    "\n",
    "#Import GTI soap test experiment data (roughly 100+ data points)\n",
    "gti = pd.read_csv('Soap_test_experiments_results.csv')\n",
    "\n",
    "#Import DOE industrial meter set data"
   ]
  },
  {
   "cell_type": "code",
   "execution_count": 3,
   "metadata": {},
   "outputs": [],
   "source": [
    "#Add a column in CARB dataset to convert average flow rate from SCFM to SCFH\n",
    "carb['leak_rate_scfh'] = carb['LEAK.RATE.AVE.SCFM'] * 60"
   ]
  },
  {
   "cell_type": "code",
   "execution_count": 4,
   "metadata": {},
   "outputs": [
    {
     "data": {
      "text/html": [
       "<div>\n",
       "<style scoped>\n",
       "    .dataframe tbody tr th:only-of-type {\n",
       "        vertical-align: middle;\n",
       "    }\n",
       "\n",
       "    .dataframe tbody tr th {\n",
       "        vertical-align: top;\n",
       "    }\n",
       "\n",
       "    .dataframe thead th {\n",
       "        text-align: right;\n",
       "    }\n",
       "</style>\n",
       "<table border=\"1\" class=\"dataframe\">\n",
       "  <thead>\n",
       "    <tr style=\"text-align: right;\">\n",
       "      <th></th>\n",
       "      <th>DAE.ID</th>\n",
       "      <th>COMPANY</th>\n",
       "      <th>SITE.ID</th>\n",
       "      <th>BUBBLE.SEEN</th>\n",
       "      <th>leak_rate_scfh</th>\n",
       "      <th>TOOL.USED</th>\n",
       "      <th>LEAKING.COMPONENT</th>\n",
       "      <th>source</th>\n",
       "    </tr>\n",
       "  </thead>\n",
       "  <tbody>\n",
       "    <tr>\n",
       "      <th>0</th>\n",
       "      <td>14</td>\n",
       "      <td>Socal</td>\n",
       "      <td>17080714.0</td>\n",
       "      <td>Bubbles.Seen</td>\n",
       "      <td>0.008595</td>\n",
       "      <td>Bag</td>\n",
       "      <td>Valve</td>\n",
       "      <td>CARB study</td>\n",
       "    </tr>\n",
       "    <tr>\n",
       "      <th>2</th>\n",
       "      <td>23</td>\n",
       "      <td>Socal</td>\n",
       "      <td>17080723.0</td>\n",
       "      <td>Bubbles.Seen</td>\n",
       "      <td>0.000140</td>\n",
       "      <td>NaN</td>\n",
       "      <td>Elbow</td>\n",
       "      <td>CARB study</td>\n",
       "    </tr>\n",
       "    <tr>\n",
       "      <th>3</th>\n",
       "      <td>27</td>\n",
       "      <td>Socal</td>\n",
       "      <td>17080727.0</td>\n",
       "      <td>Bubbles.Seen</td>\n",
       "      <td>0.000640</td>\n",
       "      <td>NaN</td>\n",
       "      <td>Bushing</td>\n",
       "      <td>CARB study</td>\n",
       "    </tr>\n",
       "    <tr>\n",
       "      <th>4</th>\n",
       "      <td>43</td>\n",
       "      <td>Socal</td>\n",
       "      <td>17080813.0</td>\n",
       "      <td>Bubbles.Seen</td>\n",
       "      <td>0.009125</td>\n",
       "      <td>NaN</td>\n",
       "      <td>Coupling</td>\n",
       "      <td>CARB study</td>\n",
       "    </tr>\n",
       "    <tr>\n",
       "      <th>7</th>\n",
       "      <td>70</td>\n",
       "      <td>Socal</td>\n",
       "      <td>17080840.0</td>\n",
       "      <td>Bubbles.Seen</td>\n",
       "      <td>0.015480</td>\n",
       "      <td>NaN</td>\n",
       "      <td>Tee</td>\n",
       "      <td>CARB study</td>\n",
       "    </tr>\n",
       "  </tbody>\n",
       "</table>\n",
       "</div>"
      ],
      "text/plain": [
       "   DAE.ID COMPANY     SITE.ID   BUBBLE.SEEN  leak_rate_scfh TOOL.USED  \\\n",
       "0      14   Socal  17080714.0  Bubbles.Seen        0.008595       Bag   \n",
       "2      23   Socal  17080723.0  Bubbles.Seen        0.000140       NaN   \n",
       "3      27   Socal  17080727.0  Bubbles.Seen        0.000640       NaN   \n",
       "4      43   Socal  17080813.0  Bubbles.Seen        0.009125       NaN   \n",
       "7      70   Socal  17080840.0  Bubbles.Seen        0.015480       NaN   \n",
       "\n",
       "  LEAKING.COMPONENT      source  \n",
       "0             Valve  CARB study  \n",
       "2             Elbow  CARB study  \n",
       "3           Bushing  CARB study  \n",
       "4          Coupling  CARB study  \n",
       "7               Tee  CARB study  "
      ]
     },
     "execution_count": 4,
     "metadata": {},
     "output_type": "execute_result"
    }
   ],
   "source": [
    "#Selecting only important columns. Repeat measurements, bushing_id, union_id columns are dropped\n",
    "carb = carb[['DAE.ID', 'COMPANY', 'SITE.ID', 'BUBBLE.SEEN', 'leak_rate_scfh', 'TOOL.USED', 'LEAKING.COMPONENT']]\n",
    "\n",
    "carb['source'] = 'CARB study'\n",
    "\n",
    "#Drop rows with missing average leak rate data\n",
    "carb.dropna(subset=['leak_rate_scfh'], inplace=True, axis='rows')\n",
    "carb.head()"
   ]
  },
  {
   "cell_type": "code",
   "execution_count": null,
   "metadata": {},
   "outputs": [],
   "source": []
  },
  {
   "cell_type": "code",
   "execution_count": 5,
   "metadata": {},
   "outputs": [
    {
     "data": {
      "text/html": [
       "<div>\n",
       "<style scoped>\n",
       "    .dataframe tbody tr th:only-of-type {\n",
       "        vertical-align: middle;\n",
       "    }\n",
       "\n",
       "    .dataframe tbody tr th {\n",
       "        vertical-align: top;\n",
       "    }\n",
       "\n",
       "    .dataframe thead th {\n",
       "        text-align: right;\n",
       "    }\n",
       "</style>\n",
       "<table border=\"1\" class=\"dataframe\">\n",
       "  <thead>\n",
       "    <tr style=\"text-align: right;\">\n",
       "      <th></th>\n",
       "      <th>Experiment_ID</th>\n",
       "      <th>Thread_type</th>\n",
       "      <th>Soap_solution</th>\n",
       "      <th>leak_rate_scfh</th>\n",
       "      <th>Largest_bubble_size_inch</th>\n",
       "      <th>Leak_grade</th>\n",
       "      <th>source</th>\n",
       "    </tr>\n",
       "  </thead>\n",
       "  <tbody>\n",
       "    <tr>\n",
       "      <th>0</th>\n",
       "      <td>1</td>\n",
       "      <td>Bare</td>\n",
       "      <td>MM</td>\n",
       "      <td>0.003</td>\n",
       "      <td>0.0</td>\n",
       "      <td>3.0</td>\n",
       "      <td>GTI lab</td>\n",
       "    </tr>\n",
       "    <tr>\n",
       "      <th>1</th>\n",
       "      <td>2</td>\n",
       "      <td>Bare</td>\n",
       "      <td>MM</td>\n",
       "      <td>0.005</td>\n",
       "      <td>0.0</td>\n",
       "      <td>3.0</td>\n",
       "      <td>GTI lab</td>\n",
       "    </tr>\n",
       "    <tr>\n",
       "      <th>2</th>\n",
       "      <td>3</td>\n",
       "      <td>Bare</td>\n",
       "      <td>MM</td>\n",
       "      <td>0.007</td>\n",
       "      <td>0.0</td>\n",
       "      <td>3.0</td>\n",
       "      <td>GTI lab</td>\n",
       "    </tr>\n",
       "    <tr>\n",
       "      <th>3</th>\n",
       "      <td>4</td>\n",
       "      <td>Bare</td>\n",
       "      <td>MM</td>\n",
       "      <td>0.011</td>\n",
       "      <td>0.0</td>\n",
       "      <td>3.0</td>\n",
       "      <td>GTI lab</td>\n",
       "    </tr>\n",
       "    <tr>\n",
       "      <th>4</th>\n",
       "      <td>5</td>\n",
       "      <td>Bare</td>\n",
       "      <td>MM</td>\n",
       "      <td>0.014</td>\n",
       "      <td>0.0</td>\n",
       "      <td>3.0</td>\n",
       "      <td>GTI lab</td>\n",
       "    </tr>\n",
       "  </tbody>\n",
       "</table>\n",
       "</div>"
      ],
      "text/plain": [
       "   Experiment_ID Thread_type Soap_solution  leak_rate_scfh  \\\n",
       "0              1        Bare            MM           0.003   \n",
       "1              2        Bare            MM           0.005   \n",
       "2              3        Bare            MM           0.007   \n",
       "3              4        Bare            MM           0.011   \n",
       "4              5        Bare            MM           0.014   \n",
       "\n",
       "   Largest_bubble_size_inch  Leak_grade   source  \n",
       "0                       0.0         3.0  GTI lab  \n",
       "1                       0.0         3.0  GTI lab  \n",
       "2                       0.0         3.0  GTI lab  \n",
       "3                       0.0         3.0  GTI lab  \n",
       "4                       0.0         3.0  GTI lab  "
      ]
     },
     "execution_count": 5,
     "metadata": {},
     "output_type": "execute_result"
    }
   ],
   "source": [
    "#Rename leak rate columns so it has the same name as the carb data\n",
    "gti.rename(columns ={'Leak_size_scfh' : 'leak_rate_scfh'}, inplace=True)\n",
    "gti['source']='GTI lab'\n",
    "gti.head()"
   ]
  },
  {
   "cell_type": "code",
   "execution_count": 6,
   "metadata": {},
   "outputs": [
    {
     "data": {
      "image/png": "[encoded data removed]",
      "text/plain": [
       "<Figure size 432x288 with 1 Axes>"
      ]
     },
     "metadata": {
      "needs_background": "light"
     },
     "output_type": "display_data"
    }
   ],
   "source": [
    "#Plot the cumulative distribution curve of the GTI experimental data (112 data points)\n",
    "gti_flow_rate, gti_ecdf = dcst.ecdf(gti.leak_rate_scfh)\n",
    "_ = sns.scatterplot(x=gti_flow_rate, y=gti_ecdf)\n",
    "_ = plt.title('2019 GTI soap test experiments data')\n",
    "_ = plt.xlabel('Leak rate (scfh)')\n",
    "_ = plt.ylabel('ECDF')\n",
    "plt.show()"
   ]
  },
  {
   "cell_type": "code",
   "execution_count": 7,
   "metadata": {},
   "outputs": [
    {
     "data": {
      "image/png": "[encoded data removed]",
      "text/plain": [
       "<Figure size 432x288 with 1 Axes>"
      ]
     },
     "metadata": {
      "needs_background": "light"
     },
     "output_type": "display_data"
    }
   ],
   "source": [
    "#Plot the pdf of the GTI experiment data\n",
    "\n",
    "#Plot the pdf of the dataset\n",
    "LogMin, LogMax = np.log10(gti_flow_rate.min()),np.log10(gti_flow_rate.max())\n",
    "newBins = np.logspace(LogMin, LogMax, 15)\n",
    "\n",
    "ax = sns.distplot(gti_flow_rate, kde=False, bins = newBins, rug=True)\n",
    "ax.set(xscale=\"log\")\n",
    "_ = plt.title('PDF of GTI experiment data')\n",
    "_ = plt.xlabel('Leak rate (scfh)')\n",
    "_ = plt.ylabel('Count')\n",
    "_ = plt.xlim(0.001, 60)"
   ]
  },
  {
   "cell_type": "code",
   "execution_count": 8,
   "metadata": {},
   "outputs": [
    {
     "data": {
      "image/png": "[encoded data removed]",
      "text/plain": [
       "<Figure size 432x288 with 1 Axes>"
      ]
     },
     "metadata": {
      "needs_background": "light"
     },
     "output_type": "display_data"
    }
   ],
   "source": [
    "#Plot the cumulative distribution curve of the GTI experimental data (50 data points)\n",
    "carb_flow_rate, carb_ecdf = dcst.ecdf(carb.leak_rate_scfh)\n",
    "_ = sns.scatterplot(x=carb_flow_rate, y=carb_ecdf)\n",
    "_ = plt.title('2018 CARB meter set data')\n",
    "_ = plt.xlabel('Leak rate (scfh)')\n",
    "_ = plt.ylabel('ECDF')\n",
    "plt.show()"
   ]
  },
  {
   "cell_type": "code",
   "execution_count": 9,
   "metadata": {},
   "outputs": [],
   "source": [
    "#Combine the carb and gti datasets \n",
    "#Including all the thread types and soap solutions from GTI data\n",
    "combined = pd.merge(carb, gti,how='outer')"
   ]
  },
  {
   "cell_type": "code",
   "execution_count": 10,
   "metadata": {},
   "outputs": [
    {
     "data": {
      "text/plain": [
       "(162, 13)"
      ]
     },
     "execution_count": 10,
     "metadata": {},
     "output_type": "execute_result"
    }
   ],
   "source": [
    "combined.shape"
   ]
  },
  {
   "cell_type": "code",
   "execution_count": 11,
   "metadata": {},
   "outputs": [
    {
     "data": {
      "text/html": [
       "<div>\n",
       "<style scoped>\n",
       "    .dataframe tbody tr th:only-of-type {\n",
       "        vertical-align: middle;\n",
       "    }\n",
       "\n",
       "    .dataframe tbody tr th {\n",
       "        vertical-align: top;\n",
       "    }\n",
       "\n",
       "    .dataframe thead th {\n",
       "        text-align: right;\n",
       "    }\n",
       "</style>\n",
       "<table border=\"1\" class=\"dataframe\">\n",
       "  <thead>\n",
       "    <tr style=\"text-align: right;\">\n",
       "      <th></th>\n",
       "      <th>DAE.ID</th>\n",
       "      <th>COMPANY</th>\n",
       "      <th>SITE.ID</th>\n",
       "      <th>BUBBLE.SEEN</th>\n",
       "      <th>leak_rate_scfh</th>\n",
       "      <th>TOOL.USED</th>\n",
       "      <th>LEAKING.COMPONENT</th>\n",
       "      <th>source</th>\n",
       "      <th>Experiment_ID</th>\n",
       "      <th>Thread_type</th>\n",
       "      <th>Soap_solution</th>\n",
       "      <th>Largest_bubble_size_inch</th>\n",
       "      <th>Leak_grade</th>\n",
       "    </tr>\n",
       "  </thead>\n",
       "  <tbody>\n",
       "    <tr>\n",
       "      <th>0</th>\n",
       "      <td>14.0</td>\n",
       "      <td>Socal</td>\n",
       "      <td>17080714.0</td>\n",
       "      <td>Bubbles.Seen</td>\n",
       "      <td>0.008595</td>\n",
       "      <td>Bag</td>\n",
       "      <td>Valve</td>\n",
       "      <td>CARB study</td>\n",
       "      <td>NaN</td>\n",
       "      <td>NaN</td>\n",
       "      <td>NaN</td>\n",
       "      <td>NaN</td>\n",
       "      <td>NaN</td>\n",
       "    </tr>\n",
       "    <tr>\n",
       "      <th>1</th>\n",
       "      <td>23.0</td>\n",
       "      <td>Socal</td>\n",
       "      <td>17080723.0</td>\n",
       "      <td>Bubbles.Seen</td>\n",
       "      <td>0.000140</td>\n",
       "      <td>NaN</td>\n",
       "      <td>Elbow</td>\n",
       "      <td>CARB study</td>\n",
       "      <td>NaN</td>\n",
       "      <td>NaN</td>\n",
       "      <td>NaN</td>\n",
       "      <td>NaN</td>\n",
       "      <td>NaN</td>\n",
       "    </tr>\n",
       "    <tr>\n",
       "      <th>2</th>\n",
       "      <td>27.0</td>\n",
       "      <td>Socal</td>\n",
       "      <td>17080727.0</td>\n",
       "      <td>Bubbles.Seen</td>\n",
       "      <td>0.000640</td>\n",
       "      <td>NaN</td>\n",
       "      <td>Bushing</td>\n",
       "      <td>CARB study</td>\n",
       "      <td>NaN</td>\n",
       "      <td>NaN</td>\n",
       "      <td>NaN</td>\n",
       "      <td>NaN</td>\n",
       "      <td>NaN</td>\n",
       "    </tr>\n",
       "    <tr>\n",
       "      <th>3</th>\n",
       "      <td>43.0</td>\n",
       "      <td>Socal</td>\n",
       "      <td>17080813.0</td>\n",
       "      <td>Bubbles.Seen</td>\n",
       "      <td>0.009125</td>\n",
       "      <td>NaN</td>\n",
       "      <td>Coupling</td>\n",
       "      <td>CARB study</td>\n",
       "      <td>NaN</td>\n",
       "      <td>NaN</td>\n",
       "      <td>NaN</td>\n",
       "      <td>NaN</td>\n",
       "      <td>NaN</td>\n",
       "    </tr>\n",
       "    <tr>\n",
       "      <th>4</th>\n",
       "      <td>70.0</td>\n",
       "      <td>Socal</td>\n",
       "      <td>17080840.0</td>\n",
       "      <td>Bubbles.Seen</td>\n",
       "      <td>0.015480</td>\n",
       "      <td>NaN</td>\n",
       "      <td>Tee</td>\n",
       "      <td>CARB study</td>\n",
       "      <td>NaN</td>\n",
       "      <td>NaN</td>\n",
       "      <td>NaN</td>\n",
       "      <td>NaN</td>\n",
       "      <td>NaN</td>\n",
       "    </tr>\n",
       "  </tbody>\n",
       "</table>\n",
       "</div>"
      ],
      "text/plain": [
       "   DAE.ID COMPANY     SITE.ID   BUBBLE.SEEN  leak_rate_scfh TOOL.USED  \\\n",
       "0    14.0   Socal  17080714.0  Bubbles.Seen        0.008595       Bag   \n",
       "1    23.0   Socal  17080723.0  Bubbles.Seen        0.000140       NaN   \n",
       "2    27.0   Socal  17080727.0  Bubbles.Seen        0.000640       NaN   \n",
       "3    43.0   Socal  17080813.0  Bubbles.Seen        0.009125       NaN   \n",
       "4    70.0   Socal  17080840.0  Bubbles.Seen        0.015480       NaN   \n",
       "\n",
       "  LEAKING.COMPONENT      source  Experiment_ID Thread_type Soap_solution  \\\n",
       "0             Valve  CARB study            NaN         NaN           NaN   \n",
       "1             Elbow  CARB study            NaN         NaN           NaN   \n",
       "2           Bushing  CARB study            NaN         NaN           NaN   \n",
       "3          Coupling  CARB study            NaN         NaN           NaN   \n",
       "4               Tee  CARB study            NaN         NaN           NaN   \n",
       "\n",
       "   Largest_bubble_size_inch  Leak_grade  \n",
       "0                       NaN         NaN  \n",
       "1                       NaN         NaN  \n",
       "2                       NaN         NaN  \n",
       "3                       NaN         NaN  \n",
       "4                       NaN         NaN  "
      ]
     },
     "execution_count": 11,
     "metadata": {},
     "output_type": "execute_result"
    }
   ],
   "source": [
    "combined.head()"
   ]
  },
  {
   "cell_type": "code",
   "execution_count": 12,
   "metadata": {},
   "outputs": [
    {
     "data": {
      "text/html": [
       "<div>\n",
       "<style scoped>\n",
       "    .dataframe tbody tr th:only-of-type {\n",
       "        vertical-align: middle;\n",
       "    }\n",
       "\n",
       "    .dataframe tbody tr th {\n",
       "        vertical-align: top;\n",
       "    }\n",
       "\n",
       "    .dataframe thead th {\n",
       "        text-align: right;\n",
       "    }\n",
       "</style>\n",
       "<table border=\"1\" class=\"dataframe\">\n",
       "  <thead>\n",
       "    <tr style=\"text-align: right;\">\n",
       "      <th></th>\n",
       "      <th>leak_rate_scfh</th>\n",
       "      <th>source</th>\n",
       "    </tr>\n",
       "  </thead>\n",
       "  <tbody>\n",
       "    <tr>\n",
       "      <th>25</th>\n",
       "      <td>0.000001</td>\n",
       "      <td>CARB study</td>\n",
       "    </tr>\n",
       "    <tr>\n",
       "      <th>10</th>\n",
       "      <td>0.000085</td>\n",
       "      <td>CARB study</td>\n",
       "    </tr>\n",
       "    <tr>\n",
       "      <th>33</th>\n",
       "      <td>0.000124</td>\n",
       "      <td>CARB study</td>\n",
       "    </tr>\n",
       "    <tr>\n",
       "      <th>1</th>\n",
       "      <td>0.000140</td>\n",
       "      <td>CARB study</td>\n",
       "    </tr>\n",
       "    <tr>\n",
       "      <th>31</th>\n",
       "      <td>0.000234</td>\n",
       "      <td>CARB study</td>\n",
       "    </tr>\n",
       "  </tbody>\n",
       "</table>\n",
       "</div>"
      ],
      "text/plain": [
       "    leak_rate_scfh      source\n",
       "25        0.000001  CARB study\n",
       "10        0.000085  CARB study\n",
       "33        0.000124  CARB study\n",
       "1         0.000140  CARB study\n",
       "31        0.000234  CARB study"
      ]
     },
     "execution_count": 12,
     "metadata": {},
     "output_type": "execute_result"
    }
   ],
   "source": [
    "#Drop every other column except leak_rate_scfh to simplify analysis\n",
    "combined = combined[['leak_rate_scfh', 'source']]\n",
    "combined.sort_values(by = ['leak_rate_scfh'], ascending = True, inplace=True)\n",
    "combined.head()"
   ]
  },
  {
   "cell_type": "code",
   "execution_count": 13,
   "metadata": {},
   "outputs": [],
   "source": [
    "#Bins for partitioning the data based on observations of GTI experimental data, 4 categories\n",
    "ground = 0\n",
    "max_d = 0.02\n",
    "max_c = 0.1\n",
    "max_b = 4  # previously 2\n",
    "max_a = 25 # previously 25"
   ]
  },
  {
   "cell_type": "code",
   "execution_count": 14,
   "metadata": {},
   "outputs": [
    {
     "data": {
      "image/png": "[encoded data removed]",
      "text/plain": [
       "<Figure size 432x288 with 1 Axes>"
      ]
     },
     "metadata": {
      "needs_background": "light"
     },
     "output_type": "display_data"
    }
   ],
   "source": [
    "#Plot the ECDF of the combined dataset\n",
    "combined_flow_rate, combined_ecdf =dcst.ecdf(combined.leak_rate_scfh)\n",
    "combined['ecdf'] = combined_ecdf\n",
    "_ = sns.scatterplot(x='leak_rate_scfh', y='ecdf', hue = 'source', data=combined)\n",
    "_ = _.set(xscale=\"log\")\n",
    "_ = plt.xlim(0.000001, 30)\n",
    "_ = plt.title('Combined CARB and GTI data')\n",
    "_ = plt.xlabel('Leak rate (scfh)')\n",
    "_ = plt.ylabel('ECDF')\n",
    "_ = plt.margins(0.02)\n",
    "\n",
    "#Draw vertical lines to mark the ranges for each bin (based on observations in GTI experiment)\n",
    "_ = plt.axvline(max_d, 0.01, 0.98, lw=0.9, ls ='--', color='brown', alpha=0.9)\n",
    "_ = plt.axvline(max_c, 0.01, 0.98, lw=0.9, ls ='--', color='brown', alpha=0.9)\n",
    "_ = plt.axvline(max_b, 0.01, 0.98, lw=0.9, ls ='--', color='brown', alpha=0.9)\n",
    "\n",
    "#Draw text in the plot to mark regions of each bin\n",
    "_ = plt.text(x=0.0003, y= 0.7, s='d', color='black', alpha =0.7)\n",
    "_ = plt.text(x=0.034, y= 0.7, s='c', color='black', alpha =0.7)\n",
    "_ = plt.text(x=0.4, y= 0.7, s='b', color='black', alpha =0.7)\n",
    "_ = plt.text(x=11, y= 0.7, s='a', color='black', alpha =0.7)\n",
    "\n",
    "plt.show()\n",
    "\n",
    "#There is an outlier on the left side around 1.4E-6 in size from the CARB study\n",
    "#The largest leak found during the CARB study was 0.097 scfh\n",
    "#The maximum size tested at GTI is 25 scfh"
   ]
  },
  {
   "cell_type": "code",
   "execution_count": 15,
   "metadata": {},
   "outputs": [
    {
     "data": {
      "image/png": "[encoded data removed]",
      "text/plain": [
       "<Figure size 432x288 with 1 Axes>"
      ]
     },
     "metadata": {
      "needs_background": "light"
     },
     "output_type": "display_data"
    }
   ],
   "source": [
    "#Plot the pdf of the dataset\n",
    "LogMin, LogMax = np.log10(combined.leak_rate_scfh.min()),np.log10(combined.leak_rate_scfh.max())\n",
    "newBins = np.logspace(LogMin, LogMax, 20)\n",
    "\n",
    "ax = sns.distplot(combined.leak_rate_scfh, kde=False, bins = newBins, rug=True)\n",
    "ax.set(xscale=\"log\")\n",
    "_ = plt.title('PDF of combined data')\n",
    "_ = plt.xlabel('Leak rate (scfh)')\n",
    "_ = plt.ylabel('Count')\n",
    "_ = plt.xlim(0.000001, 30)\n",
    "\n",
    "#Draw vertical lines to mark the ranges for each bin (based on observations in GTI experiment)\n",
    "_ = plt.axvline(max_d, 0.01, 0.98, lw=0.9, ls ='--', color='brown', alpha=0.9)\n",
    "_ = plt.axvline(max_c, 0.01, 0.98, lw=0.9, ls ='--', color='brown', alpha=0.9)\n",
    "_ = plt.axvline(max_b, 0.01, 0.98, lw=0.9, ls ='--', color='brown', alpha=0.9)\n",
    "\n",
    "#Draw text in the plot to mark regions of each bin\n",
    "_ = plt.text(x=0.0003, y= 22, s='d', color='black', alpha =0.7)\n",
    "_ = plt.text(x=0.034, y= 22, s='c', color='black', alpha =0.7)\n",
    "_ = plt.text(x=0.4, y= 22, s='b', color='black', alpha =0.7)\n",
    "_ = plt.text(x=11, y= 22, s='a', color='black', alpha =0.7)\n",
    "\n",
    "plt.show()"
   ]
  },
  {
   "cell_type": "code",
   "execution_count": 16,
   "metadata": {},
   "outputs": [
    {
     "name": "stdout",
     "output_type": "stream",
     "text": [
      "the total number of data points should be 162:  162\n"
     ]
    }
   ],
   "source": [
    "grp_d = combined[combined.leak_rate_scfh <= max_d]['leak_rate_scfh']\n",
    "grp_c = combined[(combined.leak_rate_scfh > max_d) & (combined.leak_rate_scfh <= max_c)]['leak_rate_scfh']\n",
    "grp_b = combined[(combined.leak_rate_scfh > max_c) & (combined.leak_rate_scfh <= max_b)]['leak_rate_scfh']\n",
    "grp_a = combined[(combined.leak_rate_scfh > max_b)]['leak_rate_scfh']\n",
    "\n",
    "print(\"the total number of data points should be 162: \", (grp_d.shape[0] + \n",
    "                                                          grp_c.shape[0] + grp_b.shape[0] + \n",
    "                                                          grp_a.shape[0]))\n",
    "\n",
    "#if the total is 162, it means that we are not losing any data"
   ]
  },
  {
   "cell_type": "code",
   "execution_count": 17,
   "metadata": {},
   "outputs": [],
   "source": [
    "d = {   'd':grp_d.shape[0],\n",
    "        'c':grp_c.shape[0],\n",
    "        'b':grp_b.shape[0],\n",
    "        'a':grp_a.shape[0]}\n",
    "\n",
    "#Create a table with the number of data points for each category\n",
    "tally = pd.DataFrame(list(d.items()), columns =['category', 'number_of_points'])"
   ]
  },
  {
   "cell_type": "code",
   "execution_count": 18,
   "metadata": {},
   "outputs": [
    {
     "data": {
      "text/html": [
       "<div>\n",
       "<style scoped>\n",
       "    .dataframe tbody tr th:only-of-type {\n",
       "        vertical-align: middle;\n",
       "    }\n",
       "\n",
       "    .dataframe tbody tr th {\n",
       "        vertical-align: top;\n",
       "    }\n",
       "\n",
       "    .dataframe thead th {\n",
       "        text-align: right;\n",
       "    }\n",
       "</style>\n",
       "<table border=\"1\" class=\"dataframe\">\n",
       "  <thead>\n",
       "    <tr style=\"text-align: right;\">\n",
       "      <th></th>\n",
       "      <th>category</th>\n",
       "      <th>number_of_points</th>\n",
       "      <th>mean_rate_scfh</th>\n",
       "      <th>median_rate_scfh</th>\n",
       "      <th>decription</th>\n",
       "    </tr>\n",
       "  </thead>\n",
       "  <tbody>\n",
       "    <tr>\n",
       "      <th>0</th>\n",
       "      <td>d</td>\n",
       "      <td>57</td>\n",
       "      <td>0.0044</td>\n",
       "      <td>0.0023</td>\n",
       "      <td>foams only</td>\n",
       "    </tr>\n",
       "    <tr>\n",
       "      <th>1</th>\n",
       "      <td>c</td>\n",
       "      <td>17</td>\n",
       "      <td>0.0635</td>\n",
       "      <td>0.0570</td>\n",
       "      <td>small bubbles with or without foams</td>\n",
       "    </tr>\n",
       "    <tr>\n",
       "      <th>2</th>\n",
       "      <td>b</td>\n",
       "      <td>63</td>\n",
       "      <td>1.8310</td>\n",
       "      <td>1.5000</td>\n",
       "      <td>medium to large bubbles</td>\n",
       "    </tr>\n",
       "    <tr>\n",
       "      <th>3</th>\n",
       "      <td>a</td>\n",
       "      <td>25</td>\n",
       "      <td>10.4000</td>\n",
       "      <td>5.0000</td>\n",
       "      <td>bubbles are blown off</td>\n",
       "    </tr>\n",
       "  </tbody>\n",
       "</table>\n",
       "</div>"
      ],
      "text/plain": [
       "  category  number_of_points  mean_rate_scfh  median_rate_scfh  \\\n",
       "0        d                57          0.0044            0.0023   \n",
       "1        c                17          0.0635            0.0570   \n",
       "2        b                63          1.8310            1.5000   \n",
       "3        a                25         10.4000            5.0000   \n",
       "\n",
       "                            decription  \n",
       "0                           foams only  \n",
       "1  small bubbles with or without foams  \n",
       "2              medium to large bubbles  \n",
       "3                bubbles are blown off  "
      ]
     },
     "execution_count": 18,
     "metadata": {},
     "output_type": "execute_result"
    }
   ],
   "source": [
    "mean_d = round(np.mean(grp_d), 4)\n",
    "mean_c = round(np.mean(grp_c), 4)\n",
    "mean_b = round(np.mean(grp_b), 4)\n",
    "mean_a = round(np.mean(grp_a), 4)\n",
    "\n",
    "median_d = round(np.median(grp_d), 4)\n",
    "median_c = round(np.median(grp_c), 4)\n",
    "median_b = round(np.median(grp_b), 4)\n",
    "median_a = round(np.median(grp_a), 4)\n",
    "\n",
    "tally['mean_rate_scfh'] = [mean_d, mean_c, mean_b, mean_a]\n",
    "tally['median_rate_scfh'] = [median_d, median_c, median_b, median_a]\n",
    "tally['decription'] = ['foams only','small bubbles with or without foams', 'medium to large bubbles', 'bubbles are blown off']\n",
    "tally"
   ]
  },
  {
   "cell_type": "code",
   "execution_count": 19,
   "metadata": {},
   "outputs": [
    {
     "data": {
      "image/png": "[encoded data removed]",
      "text/plain": [
       "<Figure size 432x288 with 1 Axes>"
      ]
     },
     "metadata": {
      "needs_background": "light"
     },
     "output_type": "display_data"
    }
   ],
   "source": [
    "#Plot the ECDF of the combined dataset\n",
    "_ = sns.scatterplot(x='leak_rate_scfh', y='ecdf', hue ='source', data=combined, alpha =0.85)\n",
    "_ = _.set(xscale=\"log\")\n",
    "_ = plt.xlim(0.000001, 35)\n",
    "_ = plt.title('Combined CARB and GTI data')\n",
    "_ = plt.xlabel('Leak rate (scfh)')\n",
    "_ = plt.ylabel('ECDF')\n",
    "_ = plt.margins(0.02)\n",
    "\n",
    "#Draw vertical lines to mark the ranges for each bin (based on observations in GTI experiment)\n",
    "_ = plt.axvline(max_d, 0.01, 0.98, lw=0.9, ls ='--', color='brown', alpha=0.9)\n",
    "_ = plt.axvline(max_c, 0.01, 0.98, lw=0.9, ls ='--', color='brown', alpha=0.9)\n",
    "_ = plt.axvline(max_b, 0.01, 0.98, lw=0.9, ls ='--', color='brown', alpha=0.9)\n",
    "\n",
    "#Draw text in the plot to mark regions of each bin\n",
    "_ = plt.text(x=0.0003, y= 0.7, s='d', color='black', alpha =0.7)\n",
    "_ = plt.text(x=0.034, y= 0.7, s='c', color='black', alpha =0.7)\n",
    "_ = plt.text(x=0.4, y= 0.7, s='b', color='black', alpha =0.7)\n",
    "_ = plt.text(x=11, y= 0.7, s='a', color='black', alpha =0.7)\n",
    "\n",
    "#Add green dots in each group to show where the mean is\n",
    "_= plt.plot(mean_d, 0.01, color = 'green', marker ='.', markersize = 7)\n",
    "_= plt.plot(mean_c, 0.01, color = 'green', marker ='.', markersize = 7)\n",
    "_= plt.plot(mean_b, 0.01, color = 'green', marker ='.', markersize = 7)\n",
    "_= plt.plot(mean_a, 0.01, color = 'green', marker ='.', markersize = 7)\n",
    "\n",
    "_= plt.annotate('mean', \n",
    "                xy=(mean_a, 0.03), \n",
    "                xytext =(mean_a - 0.1, 0.16),\n",
    "                arrowprops = {'facecolor': 'green', 'headwidth': 7, 'width': 2}, \n",
    "                color='green')\n",
    "\n",
    "plt.show()"
   ]
  },
  {
   "cell_type": "code",
   "execution_count": 20,
   "metadata": {},
   "outputs": [],
   "source": [
    "#Create the x values and ecdf to plot the ecdf of each \n",
    "d_flow, d_ecdf =dcst.ecdf(grp_d)\n",
    "c_flow, c_ecdf =dcst.ecdf(grp_c)\n",
    "b_flow, b_ecdf =dcst.ecdf(grp_b)\n",
    "a_flow, a_ecdf =dcst.ecdf(grp_a)"
   ]
  },
  {
   "cell_type": "code",
   "execution_count": 21,
   "metadata": {},
   "outputs": [
    {
     "data": {
      "image/png": "[encoded data removed]",
      "text/plain": [
       "<Figure size 432x288 with 1 Axes>"
      ]
     },
     "metadata": {
      "needs_background": "light"
     },
     "output_type": "display_data"
    }
   ],
   "source": [
    "_ = sns.scatterplot(x=d_flow, y=d_ecdf)\n",
    "_ = plt.title('Category D')\n",
    "_ = plt.ylabel('ECDF')\n",
    "_ = plt.xlabel('Leak rate (scfh)')\n",
    "_= plt.axvline(mean_d, 0.01, 0.98, color = 'green',ls = '--', lw = 1.5)\n",
    "_= plt.annotate('mean', \n",
    "                xy=(mean_d, 0.1), \n",
    "                xytext =(mean_d +0.002, 0.16),\n",
    "                arrowprops = {'facecolor': 'green', 'headwidth': 7, 'width': 2}, \n",
    "                color='green')\n",
    "\n",
    "plt.show()"
   ]
  },
  {
   "cell_type": "code",
   "execution_count": 22,
   "metadata": {},
   "outputs": [
    {
     "data": {
      "image/png": "[encoded data removed]",
      "text/plain": [
       "<Figure size 432x288 with 1 Axes>"
      ]
     },
     "metadata": {
      "needs_background": "light"
     },
     "output_type": "display_data"
    }
   ],
   "source": [
    "_ = sns.scatterplot(x=c_flow, y=c_ecdf)\n",
    "_ = plt.title('Category C')\n",
    "_ = plt.ylabel('ECDF')\n",
    "_ = plt.xlabel('Leak rate (scfh)')\n",
    "_= plt.axvline(mean_c, 0.01, 0.98, color = 'green',ls = '--', lw = 1.5)\n",
    "_= plt.annotate('mean', \n",
    "                xy=(mean_c, 0.2), \n",
    "                xytext =(mean_c + 0.01, 0.3),\n",
    "                arrowprops = {'facecolor': 'green', 'headwidth': 7, 'width': 2}, \n",
    "                color='green')\n",
    "\n",
    "plt.show()"
   ]
  },
  {
   "cell_type": "code",
   "execution_count": 23,
   "metadata": {},
   "outputs": [
    {
     "data": {
      "image/png": "[encoded data removed]",
      "text/plain": [
       "<Figure size 432x288 with 1 Axes>"
      ]
     },
     "metadata": {
      "needs_background": "light"
     },
     "output_type": "display_data"
    }
   ],
   "source": [
    "_ = sns.scatterplot(x=b_flow, y=b_ecdf)\n",
    "_ = plt.title('Category B')\n",
    "_ = plt.ylabel('ECDF')\n",
    "_ = plt.xlabel('Leak rate (scfh)')\n",
    "_= plt.axvline(mean_b, 0.01, 0.98, color = 'green',ls = '--', lw = 1.5)\n",
    "_= plt.annotate('mean', \n",
    "                xy=(mean_b, 0.2), \n",
    "                xytext =(mean_b + 0.2, 0.3),\n",
    "                arrowprops = {'facecolor': 'green', 'headwidth': 7, 'width': 2}, \n",
    "                color='green')\n",
    "\n",
    "plt.show()"
   ]
  },
  {
   "cell_type": "code",
   "execution_count": 24,
   "metadata": {},
   "outputs": [
    {
     "data": {
      "image/png": "[encoded data removed]",
      "text/plain": [
       "<Figure size 432x288 with 1 Axes>"
      ]
     },
     "metadata": {
      "needs_background": "light"
     },
     "output_type": "display_data"
    }
   ],
   "source": [
    "_ = sns.scatterplot(x=a_flow, y=a_ecdf)\n",
    "_ = plt.title('Category A')\n",
    "_ = plt.ylabel('ECDF')\n",
    "_ = plt.xlabel('Leak rate (scfh)')\n",
    "_= plt.axvline(mean_a, 0.01, 0.98, color = 'green',ls = '--', lw = 1.5)\n",
    "_= plt.annotate('mean', \n",
    "                xy=(mean_a, 0.2), \n",
    "                xytext =(mean_a + 2, 0.3),\n",
    "                arrowprops = {'facecolor': 'green', 'headwidth': 7, 'width': 2}, \n",
    "                color='green')\n",
    "\n",
    "plt.show()"
   ]
  },
  {
   "cell_type": "code",
   "execution_count": 25,
   "metadata": {},
   "outputs": [
    {
     "data": {
      "text/html": [
       "<div>\n",
       "<style scoped>\n",
       "    .dataframe tbody tr th:only-of-type {\n",
       "        vertical-align: middle;\n",
       "    }\n",
       "\n",
       "    .dataframe tbody tr th {\n",
       "        vertical-align: top;\n",
       "    }\n",
       "\n",
       "    .dataframe thead th {\n",
       "        text-align: right;\n",
       "    }\n",
       "</style>\n",
       "<table border=\"1\" class=\"dataframe\">\n",
       "  <thead>\n",
       "    <tr style=\"text-align: right;\">\n",
       "      <th></th>\n",
       "      <th>DAE.ID</th>\n",
       "      <th>COMPANY</th>\n",
       "      <th>SITE.ID</th>\n",
       "      <th>BUBBLE.SEEN</th>\n",
       "      <th>leak_rate_scfh</th>\n",
       "      <th>TOOL.USED</th>\n",
       "      <th>LEAKING.COMPONENT</th>\n",
       "      <th>source</th>\n",
       "    </tr>\n",
       "  </thead>\n",
       "  <tbody>\n",
       "    <tr>\n",
       "      <th>0</th>\n",
       "      <td>14</td>\n",
       "      <td>Socal</td>\n",
       "      <td>17080714.0</td>\n",
       "      <td>Bubbles.Seen</td>\n",
       "      <td>0.008595</td>\n",
       "      <td>Bag</td>\n",
       "      <td>Valve</td>\n",
       "      <td>CARB study</td>\n",
       "    </tr>\n",
       "    <tr>\n",
       "      <th>2</th>\n",
       "      <td>23</td>\n",
       "      <td>Socal</td>\n",
       "      <td>17080723.0</td>\n",
       "      <td>Bubbles.Seen</td>\n",
       "      <td>0.000140</td>\n",
       "      <td>NaN</td>\n",
       "      <td>Elbow</td>\n",
       "      <td>CARB study</td>\n",
       "    </tr>\n",
       "    <tr>\n",
       "      <th>3</th>\n",
       "      <td>27</td>\n",
       "      <td>Socal</td>\n",
       "      <td>17080727.0</td>\n",
       "      <td>Bubbles.Seen</td>\n",
       "      <td>0.000640</td>\n",
       "      <td>NaN</td>\n",
       "      <td>Bushing</td>\n",
       "      <td>CARB study</td>\n",
       "    </tr>\n",
       "    <tr>\n",
       "      <th>4</th>\n",
       "      <td>43</td>\n",
       "      <td>Socal</td>\n",
       "      <td>17080813.0</td>\n",
       "      <td>Bubbles.Seen</td>\n",
       "      <td>0.009125</td>\n",
       "      <td>NaN</td>\n",
       "      <td>Coupling</td>\n",
       "      <td>CARB study</td>\n",
       "    </tr>\n",
       "    <tr>\n",
       "      <th>7</th>\n",
       "      <td>70</td>\n",
       "      <td>Socal</td>\n",
       "      <td>17080840.0</td>\n",
       "      <td>Bubbles.Seen</td>\n",
       "      <td>0.015480</td>\n",
       "      <td>NaN</td>\n",
       "      <td>Tee</td>\n",
       "      <td>CARB study</td>\n",
       "    </tr>\n",
       "  </tbody>\n",
       "</table>\n",
       "</div>"
      ],
      "text/plain": [
       "   DAE.ID COMPANY     SITE.ID   BUBBLE.SEEN  leak_rate_scfh TOOL.USED  \\\n",
       "0      14   Socal  17080714.0  Bubbles.Seen        0.008595       Bag   \n",
       "2      23   Socal  17080723.0  Bubbles.Seen        0.000140       NaN   \n",
       "3      27   Socal  17080727.0  Bubbles.Seen        0.000640       NaN   \n",
       "4      43   Socal  17080813.0  Bubbles.Seen        0.009125       NaN   \n",
       "7      70   Socal  17080840.0  Bubbles.Seen        0.015480       NaN   \n",
       "\n",
       "  LEAKING.COMPONENT      source  \n",
       "0             Valve  CARB study  \n",
       "2             Elbow  CARB study  \n",
       "3           Bushing  CARB study  \n",
       "4          Coupling  CARB study  \n",
       "7               Tee  CARB study  "
      ]
     },
     "execution_count": 25,
     "metadata": {},
     "output_type": "execute_result"
    }
   ],
   "source": [
    "#Part 2#\n",
    "# Simulate a non-normal distribution to fit the CARB data\n",
    "carb.head()"
   ]
  },
  {
   "cell_type": "code",
   "execution_count": 26,
   "metadata": {},
   "outputs": [
    {
     "data": {
      "text/html": [
       "<div>\n",
       "<style scoped>\n",
       "    .dataframe tbody tr th:only-of-type {\n",
       "        vertical-align: middle;\n",
       "    }\n",
       "\n",
       "    .dataframe tbody tr th {\n",
       "        vertical-align: top;\n",
       "    }\n",
       "\n",
       "    .dataframe thead th {\n",
       "        text-align: right;\n",
       "    }\n",
       "</style>\n",
       "<table border=\"1\" class=\"dataframe\">\n",
       "  <thead>\n",
       "    <tr style=\"text-align: right;\">\n",
       "      <th></th>\n",
       "      <th>count</th>\n",
       "      <th>Fraction</th>\n",
       "    </tr>\n",
       "    <tr>\n",
       "      <th>Original Leak Grade</th>\n",
       "      <th></th>\n",
       "      <th></th>\n",
       "    </tr>\n",
       "  </thead>\n",
       "  <tbody>\n",
       "    <tr>\n",
       "      <th>N/A</th>\n",
       "      <td>146825</td>\n",
       "      <td>NaN</td>\n",
       "    </tr>\n",
       "    <tr>\n",
       "      <th>3</th>\n",
       "      <td>33201</td>\n",
       "      <td>0.873</td>\n",
       "    </tr>\n",
       "    <tr>\n",
       "      <th>2</th>\n",
       "      <td>2569</td>\n",
       "      <td>0.068</td>\n",
       "    </tr>\n",
       "    <tr>\n",
       "      <th>1</th>\n",
       "      <td>2255</td>\n",
       "      <td>0.059</td>\n",
       "    </tr>\n",
       "    <tr>\n",
       "      <th>Total</th>\n",
       "      <td>184850</td>\n",
       "      <td>1</td>\n",
       "    </tr>\n",
       "  </tbody>\n",
       "</table>\n",
       "</div>"
      ],
      "text/plain": [
       "                      count Fraction\n",
       "Original Leak Grade                 \n",
       "N/A                  146825      NaN\n",
       "3                     33201    0.873\n",
       "2                      2569    0.068\n",
       "1                      2255    0.059\n",
       "Total                184850        1"
      ]
     },
     "execution_count": 26,
     "metadata": {},
     "output_type": "execute_result"
    }
   ],
   "source": [
    "#original leak grade counts for 2018 PG&E MSA leak data\n",
    "na = 146825\n",
    "gr_3 = 33201\n",
    "gr_2 = 2569\n",
    "gr_1 = 2255\n",
    "\n",
    "#pre-repair leak grade counts\n",
    "#na = 146825 + 2967  #include \"not available as N/A\"\n",
    "#gr_3 = 29342\n",
    "#gr_0 = 1004\n",
    "#gr_2 = 2492 + 1  #include grade 2+\n",
    "#gr_1 = 2225\n",
    "\n",
    "#Need to identify the proportion of leaks at PG&E that are grade 3 and 0 as a fraction of total leaks\n",
    "di = {'N/A': na,\n",
    "        3: gr_3,\n",
    "        2: gr_2,\n",
    "        1: gr_1,\n",
    "       'Total': na + gr_1 + gr_2 + gr_3\n",
    "      }\n",
    "\n",
    "pge_msa = pd.DataFrame(list(di.items()), columns =['Original Leak Grade', 'count'])\n",
    "pre_total = gr_3 + gr_1 + gr_2\n",
    "pge_msa['Fraction'] = ['NaN', \n",
    "                        round(gr_3 /pre_total, 3),\n",
    "                        round(gr_2 /pre_total, 3),\n",
    "                        round(gr_1 /pre_total, 3),\n",
    "                        (gr_1 + gr_2 + gr_3) /pre_total]\n",
    "\n",
    "#Fraction of PG&E MSA that has leak grade 0 and 3 out of all leaks\n",
    "pge_msa.set_index('Original Leak Grade')"
   ]
  },
  {
   "cell_type": "code",
   "execution_count": 27,
   "metadata": {},
   "outputs": [
    {
     "name": "stdout",
     "output_type": "stream",
     "text": [
      "Fraction of MSA leaks that are grade 0 and 3: 0.873\n"
     ]
    }
   ],
   "source": [
    "small_leak_fraction = gr_3/pre_total\n",
    "print(\"Fraction of MSA leaks that are grade 0 and 3:\", round((small_leak_fraction),3))"
   ]
  },
  {
   "cell_type": "code",
   "execution_count": 28,
   "metadata": {},
   "outputs": [
    {
     "name": "stdout",
     "output_type": "stream",
     "text": [
      "36.82437827236575\n",
      "9.291089360384986e-07\n"
     ]
    }
   ],
   "source": [
    "# the lognormal function in numpy takes in two key parameters, mean (mu) and stdev (sigma)\n",
    "#Need to tweak this to get a curve that fits GTI CARB data\n",
    "# mu = 0.002, sigma =2.2, size = 2000)\n",
    "\n",
    "# c = 0.55\n",
    "# sim_data = stats.fisk.rvs(c, loc=0, scale=0.011, size=5000, random_state=60) # random state 60\n",
    "\n",
    "mu, sigma = (0.01 + np.log(1/200)), 2.6\n",
    "np.random.seed(57)\n",
    "sim_data = np.random.lognormal(mu, sigma, size = 2500) # previously np.random.lognormal mu = 0.001, sigma = 2.6, size = 2,500\n",
    "\n",
    "ecdf_x, y =dcst.ecdf(sim_data)\n",
    "#cap the data at 25\n",
    "#ecdf_x = np.clip(ecdf_x, a_min = 0.000001, a_max = 25) # limit the max values in the array\n",
    "print(ecdf_x.max())\n",
    "print(ecdf_x.min())"
   ]
  },
  {
   "cell_type": "code",
   "execution_count": null,
   "metadata": {},
   "outputs": [],
   "source": []
  },
  {
   "cell_type": "code",
   "execution_count": 29,
   "metadata": {},
   "outputs": [],
   "source": [
    "#create a dataframe for simulated distribution for easier processing\n",
    "sim= pd.DataFrame(ecdf_x, columns=['leak_rate_scfh'])\n",
    "\n",
    "#create arrays of data for each leak category\n",
    "grp_d_sim = sim[(sim.leak_rate_scfh <= max_d)]['leak_rate_scfh']\n",
    "grp_c_sim = sim[(sim.leak_rate_scfh > max_d) & (sim.leak_rate_scfh <= max_c)]['leak_rate_scfh']\n",
    "grp_b_sim = sim[(sim.leak_rate_scfh > max_c) & (sim.leak_rate_scfh <= max_b)]['leak_rate_scfh']\n",
    "grp_a_sim = sim[(sim.leak_rate_scfh > max_b)]['leak_rate_scfh']"
   ]
  },
  {
   "cell_type": "code",
   "execution_count": 30,
   "metadata": {},
   "outputs": [],
   "source": [
    "d_sim = {'d':grp_d_sim.shape[0],\n",
    "        'c':grp_c_sim.shape[0],\n",
    "        'b':grp_b_sim.shape[0],\n",
    "        'a':grp_a_sim.shape[0]}\n",
    "\n",
    "#Create a table with the number of data points for each category\n",
    "tally_sim = pd.DataFrame(list(d_sim.items()), columns =['category', 'number_of_points'])"
   ]
  },
  {
   "cell_type": "code",
   "execution_count": 31,
   "metadata": {},
   "outputs": [],
   "source": [
    "mean_d = round(np.mean(grp_d_sim), 4)\n",
    "mean_c = round(np.mean(grp_c_sim), 4)\n",
    "mean_b = round(np.mean(grp_b_sim), 4)\n",
    "mean_a = round(np.mean(grp_a_sim), 4)\n",
    "\n",
    "median_d = round(np.median(grp_d_sim), 4)\n",
    "median_c = round(np.median(grp_c_sim), 4)\n",
    "median_b = round(np.median(grp_b_sim), 4)\n",
    "median_a = round(np.median(grp_a_sim), 4)\n",
    "\n",
    "tally_sim['simulated_fraction'] = tally_sim['number_of_points']/tally_sim.number_of_points.sum()\n",
    "tally_sim['mean_rate_scfh'] = [mean_d, mean_c, mean_b, mean_a]\n",
    "tally_sim['median_rate_scfh'] = [median_d, median_c, median_b, median_a]\n",
    "tally_sim['description'] = ['foams with little or no bubbles','cluster of small bubbles', 'small to medium bubbles', 'soap solution is blown off']\n",
    "tally_sim['msa_leak_fraction'] = np.divide([0, gr_3, gr_2, gr_1], pre_total)\n",
    "tally_sim['msa_leak_fraction'] = round(tally_sim['msa_leak_fraction'], 4)\n",
    "\n",
    "tally_sim = tally_sim[['category', 'description', 'number_of_points', 'mean_rate_scfh', 'median_rate_scfh', 'simulated_fraction', 'msa_leak_fraction']]"
   ]
  },
  {
   "cell_type": "code",
   "execution_count": 32,
   "metadata": {},
   "outputs": [
    {
     "data": {
      "text/html": [
       "<div>\n",
       "<style scoped>\n",
       "    .dataframe tbody tr th:only-of-type {\n",
       "        vertical-align: middle;\n",
       "    }\n",
       "\n",
       "    .dataframe tbody tr th {\n",
       "        vertical-align: top;\n",
       "    }\n",
       "\n",
       "    .dataframe thead th {\n",
       "        text-align: right;\n",
       "    }\n",
       "</style>\n",
       "<table border=\"1\" class=\"dataframe\">\n",
       "  <thead>\n",
       "    <tr style=\"text-align: right;\">\n",
       "      <th></th>\n",
       "      <th>category</th>\n",
       "      <th>description</th>\n",
       "      <th>number_of_points</th>\n",
       "      <th>mean_rate_scfh</th>\n",
       "      <th>median_rate_scfh</th>\n",
       "      <th>simulated_fraction</th>\n",
       "      <th>msa_leak_fraction</th>\n",
       "    </tr>\n",
       "  </thead>\n",
       "  <tbody>\n",
       "    <tr>\n",
       "      <th>0</th>\n",
       "      <td>d</td>\n",
       "      <td>foams with little or no bubbles</td>\n",
       "      <td>1760</td>\n",
       "      <td>0.0040</td>\n",
       "      <td>0.0019</td>\n",
       "      <td>0.7040</td>\n",
       "      <td>0.0000</td>\n",
       "    </tr>\n",
       "    <tr>\n",
       "      <th>1</th>\n",
       "      <td>c</td>\n",
       "      <td>cluster of small bubbles</td>\n",
       "      <td>405</td>\n",
       "      <td>0.0466</td>\n",
       "      <td>0.0419</td>\n",
       "      <td>0.1620</td>\n",
       "      <td>0.8731</td>\n",
       "    </tr>\n",
       "    <tr>\n",
       "      <th>2</th>\n",
       "      <td>b</td>\n",
       "      <td>small to medium bubbles</td>\n",
       "      <td>318</td>\n",
       "      <td>0.5347</td>\n",
       "      <td>0.2744</td>\n",
       "      <td>0.1272</td>\n",
       "      <td>0.0676</td>\n",
       "    </tr>\n",
       "    <tr>\n",
       "      <th>3</th>\n",
       "      <td>a</td>\n",
       "      <td>soap solution is blown off</td>\n",
       "      <td>17</td>\n",
       "      <td>9.5831</td>\n",
       "      <td>7.4034</td>\n",
       "      <td>0.0068</td>\n",
       "      <td>0.0593</td>\n",
       "    </tr>\n",
       "  </tbody>\n",
       "</table>\n",
       "</div>"
      ],
      "text/plain": [
       "  category                      description  number_of_points  mean_rate_scfh  \\\n",
       "0        d  foams with little or no bubbles              1760          0.0040   \n",
       "1        c         cluster of small bubbles               405          0.0466   \n",
       "2        b          small to medium bubbles               318          0.5347   \n",
       "3        a       soap solution is blown off                17          9.5831   \n",
       "\n",
       "   median_rate_scfh  simulated_fraction  msa_leak_fraction  \n",
       "0            0.0019              0.7040             0.0000  \n",
       "1            0.0419              0.1620             0.8731  \n",
       "2            0.2744              0.1272             0.0676  \n",
       "3            7.4034              0.0068             0.0593  "
      ]
     },
     "execution_count": 32,
     "metadata": {},
     "output_type": "execute_result"
    }
   ],
   "source": [
    "tally_sim"
   ]
  },
  {
   "cell_type": "code",
   "execution_count": 33,
   "metadata": {},
   "outputs": [],
   "source": [
    "#Add a new row below with grouped category d,c\n",
    "tally_sim.loc[4]=tally_sim.loc[0] + tally_sim.loc[1]\n",
    "tally_sim.loc[4, 'category'] = 'd, c'\n",
    "tally_sim.loc[4, 'mean_rate_scfh'] = round((np.sum(grp_d_sim) + np.sum(grp_c_sim))/(len(grp_d_sim)+ len(grp_c_sim)), 4)\n",
    "tally_sim.loc[4, 'median_rate_scfh'] = round(np.median(grp_d_sim.append(grp_c_sim)), 4)\n",
    "tally_sim.loc[4, 'description'] = 'foams or small bubbles'"
   ]
  },
  {
   "cell_type": "code",
   "execution_count": 34,
   "metadata": {},
   "outputs": [
    {
     "data": {
      "text/html": [
       "<div>\n",
       "<style scoped>\n",
       "    .dataframe tbody tr th:only-of-type {\n",
       "        vertical-align: middle;\n",
       "    }\n",
       "\n",
       "    .dataframe tbody tr th {\n",
       "        vertical-align: top;\n",
       "    }\n",
       "\n",
       "    .dataframe thead th {\n",
       "        text-align: right;\n",
       "    }\n",
       "</style>\n",
       "<table border=\"1\" class=\"dataframe\">\n",
       "  <thead>\n",
       "    <tr style=\"text-align: right;\">\n",
       "      <th></th>\n",
       "      <th>category</th>\n",
       "      <th>description</th>\n",
       "      <th>number_of_points</th>\n",
       "      <th>mean_rate_scfh</th>\n",
       "      <th>median_rate_scfh</th>\n",
       "      <th>simulated_fraction</th>\n",
       "      <th>msa_leak_fraction</th>\n",
       "    </tr>\n",
       "  </thead>\n",
       "  <tbody>\n",
       "    <tr>\n",
       "      <th>0</th>\n",
       "      <td>d</td>\n",
       "      <td>foams with little or no bubbles</td>\n",
       "      <td>1760</td>\n",
       "      <td>0.0040</td>\n",
       "      <td>0.0019</td>\n",
       "      <td>0.7040</td>\n",
       "      <td>0.0000</td>\n",
       "    </tr>\n",
       "    <tr>\n",
       "      <th>1</th>\n",
       "      <td>c</td>\n",
       "      <td>cluster of small bubbles</td>\n",
       "      <td>405</td>\n",
       "      <td>0.0466</td>\n",
       "      <td>0.0419</td>\n",
       "      <td>0.1620</td>\n",
       "      <td>0.8731</td>\n",
       "    </tr>\n",
       "    <tr>\n",
       "      <th>2</th>\n",
       "      <td>b</td>\n",
       "      <td>small to medium bubbles</td>\n",
       "      <td>318</td>\n",
       "      <td>0.5347</td>\n",
       "      <td>0.2744</td>\n",
       "      <td>0.1272</td>\n",
       "      <td>0.0676</td>\n",
       "    </tr>\n",
       "    <tr>\n",
       "      <th>3</th>\n",
       "      <td>a</td>\n",
       "      <td>soap solution is blown off</td>\n",
       "      <td>17</td>\n",
       "      <td>9.5831</td>\n",
       "      <td>7.4034</td>\n",
       "      <td>0.0068</td>\n",
       "      <td>0.0593</td>\n",
       "    </tr>\n",
       "    <tr>\n",
       "      <th>4</th>\n",
       "      <td>d, c</td>\n",
       "      <td>foams or small bubbles</td>\n",
       "      <td>2165</td>\n",
       "      <td>0.0120</td>\n",
       "      <td>0.0033</td>\n",
       "      <td>0.8660</td>\n",
       "      <td>0.8731</td>\n",
       "    </tr>\n",
       "  </tbody>\n",
       "</table>\n",
       "</div>"
      ],
      "text/plain": [
       "  category                      description  number_of_points  mean_rate_scfh  \\\n",
       "0        d  foams with little or no bubbles              1760          0.0040   \n",
       "1        c         cluster of small bubbles               405          0.0466   \n",
       "2        b          small to medium bubbles               318          0.5347   \n",
       "3        a       soap solution is blown off                17          9.5831   \n",
       "4     d, c           foams or small bubbles              2165          0.0120   \n",
       "\n",
       "   median_rate_scfh  simulated_fraction  msa_leak_fraction  \n",
       "0            0.0019              0.7040             0.0000  \n",
       "1            0.0419              0.1620             0.8731  \n",
       "2            0.2744              0.1272             0.0676  \n",
       "3            7.4034              0.0068             0.0593  \n",
       "4            0.0033              0.8660             0.8731  "
      ]
     },
     "execution_count": 34,
     "metadata": {},
     "output_type": "execute_result"
    }
   ],
   "source": [
    "tally_sim"
   ]
  },
  {
   "cell_type": "code",
   "execution_count": 35,
   "metadata": {},
   "outputs": [],
   "source": [
    "#Remove rows d & c from tally and change the index of the last \n",
    "tally_sim_no = tally_sim.iloc[2:]\n",
    "as_list = tally_sim_no.index.tolist()\n",
    "idx = as_list.index(4)\n",
    "as_list[idx] = 1\n",
    "tally_sim_no.index = as_list\n",
    "tally_sim_no = tally_sim_no.sort_index()"
   ]
  },
  {
   "cell_type": "code",
   "execution_count": 36,
   "metadata": {},
   "outputs": [
    {
     "data": {
      "text/html": [
       "<div>\n",
       "<style scoped>\n",
       "    .dataframe tbody tr th:only-of-type {\n",
       "        vertical-align: middle;\n",
       "    }\n",
       "\n",
       "    .dataframe tbody tr th {\n",
       "        vertical-align: top;\n",
       "    }\n",
       "\n",
       "    .dataframe thead th {\n",
       "        text-align: right;\n",
       "    }\n",
       "</style>\n",
       "<table border=\"1\" class=\"dataframe\">\n",
       "  <thead>\n",
       "    <tr style=\"text-align: right;\">\n",
       "      <th></th>\n",
       "      <th>category</th>\n",
       "      <th>description</th>\n",
       "      <th>number_of_points</th>\n",
       "      <th>mean_rate_scfh</th>\n",
       "      <th>median_rate_scfh</th>\n",
       "      <th>simulated_fraction</th>\n",
       "      <th>msa_leak_fraction</th>\n",
       "    </tr>\n",
       "  </thead>\n",
       "  <tbody>\n",
       "    <tr>\n",
       "      <th>1</th>\n",
       "      <td>d, c</td>\n",
       "      <td>foams or small bubbles</td>\n",
       "      <td>2165</td>\n",
       "      <td>0.0120</td>\n",
       "      <td>0.0033</td>\n",
       "      <td>0.8660</td>\n",
       "      <td>0.8731</td>\n",
       "    </tr>\n",
       "    <tr>\n",
       "      <th>2</th>\n",
       "      <td>b</td>\n",
       "      <td>small to medium bubbles</td>\n",
       "      <td>318</td>\n",
       "      <td>0.5347</td>\n",
       "      <td>0.2744</td>\n",
       "      <td>0.1272</td>\n",
       "      <td>0.0676</td>\n",
       "    </tr>\n",
       "    <tr>\n",
       "      <th>3</th>\n",
       "      <td>a</td>\n",
       "      <td>soap solution is blown off</td>\n",
       "      <td>17</td>\n",
       "      <td>9.5831</td>\n",
       "      <td>7.4034</td>\n",
       "      <td>0.0068</td>\n",
       "      <td>0.0593</td>\n",
       "    </tr>\n",
       "  </tbody>\n",
       "</table>\n",
       "</div>"
      ],
      "text/plain": [
       "  category                 description  number_of_points  mean_rate_scfh  \\\n",
       "1     d, c      foams or small bubbles              2165          0.0120   \n",
       "2        b     small to medium bubbles               318          0.5347   \n",
       "3        a  soap solution is blown off                17          9.5831   \n",
       "\n",
       "   median_rate_scfh  simulated_fraction  msa_leak_fraction  \n",
       "1            0.0033              0.8660             0.8731  \n",
       "2            0.2744              0.1272             0.0676  \n",
       "3            7.4034              0.0068             0.0593  "
      ]
     },
     "execution_count": 36,
     "metadata": {},
     "output_type": "execute_result"
    }
   ],
   "source": [
    "tally_sim_no"
   ]
  },
  {
   "cell_type": "code",
   "execution_count": 37,
   "metadata": {},
   "outputs": [],
   "source": [
    "#Shrink CARB data so the ECDF is capped at the fraction of leaks that are in grade 0 and 3. \n",
    "# We do this because CARB data has small leaks with the largest one being 0.1 scfh so it represents leaks in\n",
    "# the small categories\n",
    "capped_carb_ecdf = carb_ecdf*small_leak_fraction"
   ]
  },
  {
   "cell_type": "code",
   "execution_count": 38,
   "metadata": {},
   "outputs": [
    {
     "data": {
      "image/png": "[encoded data removed]",
      "text/plain": [
       "<Figure size 504x360 with 1 Axes>"
      ]
     },
     "metadata": {
      "needs_background": "light"
     },
     "output_type": "display_data"
    }
   ],
   "source": [
    "#Plot pdf of simulated distribution versus PG&E data\n",
    "# set width of bar\n",
    "barWidth = 0.4\n",
    " \n",
    "# set height of bar\n",
    "bars1 = list(tally_sim_no.simulated_fraction)\n",
    "bars2 = list(tally_sim_no.msa_leak_fraction)\n",
    " \n",
    "# Set position of bar on X axis\n",
    "r1 = np.arange(len(bars1))\n",
    "r2 = [x + barWidth for x in r1]\n",
    " \n",
    "# Make the plot\n",
    "plt.figure(figsize=(7,5))\n",
    "plt.bar(r1, bars1, width=barWidth, edgecolor='white', label='simulated data', alpha=0.9)\n",
    "plt.bar(r2, bars2, width=barWidth, edgecolor='white', label='utility data', alpha=0.9)\n",
    " \n",
    "# Add xticks on the middle of the group bars\n",
    "plt.xlabel('Soap test categories - Leak grade', fontsize='large')\n",
    "plt.xticks([r*0.85 + barWidth for r in range(len(bars1))], ['C & D - Grade 3', 'B - Grade 2', 'A - Grade 1'])\n",
    "plt.ylabel('fraction', fontsize='large')\n",
    "plt.title('Simulated vs. Observed proportions')\n",
    "\n",
    "#add labels above each bar\n",
    "for i, v in enumerate(bars1):\n",
    "    plt.text(i-0.12, v+0.01, str(round(v,3)), color='dimgray', fontsize='medium')\n",
    "    \n",
    "for i, v in enumerate(bars2):\n",
    "    plt.text(i+0.3, v+0.01, str(round(v,3)), color='dimgray', fontsize='medium')\n",
    "    \n",
    "# Create legend & Show graphic\n",
    "plt.legend(fontsize='large')\n",
    "plt.xticks(size=12)\n",
    "plt.yticks(size=12)\n",
    "plt.show()\n"
   ]
  },
  {
   "cell_type": "code",
   "execution_count": 39,
   "metadata": {},
   "outputs": [
    {
     "data": {
      "image/png": "[encoded data removed]",
      "text/plain": [
       "<Figure size 504x360 with 1 Axes>"
      ]
     },
     "metadata": {
      "needs_background": "light"
     },
     "output_type": "display_data"
    }
   ],
   "source": [
    "# Make the plot\n",
    "plt.figure(figsize=(7,5))\n",
    "plt.bar(r1, bars1, width=barWidth, edgecolor='white', label='simulated data', alpha=0.9)\n",
    "\n",
    "# Add xticks on the middle of the group bars\n",
    "plt.xlabel('Soap test categories', fontsize='large')\n",
    "plt.xticks([r for r in range(len(bars1))], ['C & D', 'B', 'A'])\n",
    "plt.ylabel('fraction', fontsize='large')\n",
    "plt.title('Proportions of simulated data')\n",
    "\n",
    "#add labels above each bar\n",
    "for i, v in enumerate(bars1):\n",
    "    plt.text(i-0.1, v+0.01, str(round(v,3)), color='dimgray', fontsize='medium')\n",
    "       \n",
    "# Create legend & Show graphic\n",
    "plt.legend(fontsize='large')\n",
    "plt.xticks(size=12)\n",
    "plt.yticks(size=12)\n",
    "plt.show()"
   ]
  },
  {
   "cell_type": "code",
   "execution_count": 40,
   "metadata": {},
   "outputs": [
    {
     "data": {
      "image/png": "[encoded data removed]",
      "text/plain": [
       "<Figure size 540x396 with 1 Axes>"
      ]
     },
     "metadata": {
      "needs_background": "light"
     },
     "output_type": "display_data"
    }
   ],
   "source": [
    "_=plt.figure(figsize=(7.5,5.5))\n",
    "_=plt.semilogx(ecdf_x, y, marker ='.', linestyle='none', alpha=0.5, color ='dodgerblue')\n",
    "_=plt.semilogx(carb_flow_rate, capped_carb_ecdf, marker='.', linestyle='none', color='orange')\n",
    "_=plt.xlim(0.000001, 28)\n",
    "_=plt.legend(['Simulated data', 'CARB/GTI 2018 data'], loc ='upper left', fontsize = 'medium')\n",
    "_=plt.xlabel('Leak rate (scfh)')\n",
    "_=plt.ylabel('CDF')\n",
    "_=plt.title('Fitted lognormal distribution', fontsize=16)\n",
    "\n",
    "#Draw vertical lines to mark the ranges for each bin (based on observations in GTI experiment)\n",
    "_ = plt.axvline(max_d, 0.04, 0.96, lw=1, ls ='--', color='saddlebrown', alpha=0.7)\n",
    "_ = plt.axvline(max_c, 0.04, 0.96, lw=1, ls ='--', color='saddlebrown', alpha=0.7)\n",
    "_ = plt.axvline(max_b, 0.04, 0.96, lw=1, ls ='--', color='saddlebrown', alpha=0.7)\n",
    "\n",
    "#Draw text in the plot to mark regions of each bin\n",
    "_ = plt.text(x=0.0006, y= 0.5, s='D', color='black', alpha =0.9, fontsize=12)\n",
    "_ = plt.text(x=0.04, y= 0.5, s='C', color='black', alpha =0.9, fontsize=12)\n",
    "_ = plt.text(x=0.4, y= 0.5, s='B', color='black', alpha =0.9, fontsize=12)\n",
    "_ = plt.text(x=11, y= 0.5, s='A', color='black', alpha =0.9, fontsize=12)\n",
    "\n",
    "#Add green dots in each group to show where the mean is\n",
    "_= plt.plot(mean_d, 0.01, color = 'green', marker ='.', markersize = 8)\n",
    "_= plt.plot(mean_c, 0.01, color = 'green', marker ='.', markersize = 8)\n",
    "_= plt.plot(mean_b, 0.01, color = 'green', marker ='.', markersize = 8)\n",
    "_= plt.plot(mean_a, 0.01, color = 'green', marker ='.', markersize = 8)\n",
    "\n",
    "_= plt.annotate('mean', \n",
    "                xy=(mean_a, 0.03), \n",
    "                xytext =(mean_a - 0.1, 0.16),\n",
    "                arrowprops = {'facecolor': 'green', 'headwidth': 7, 'width': 2}, \n",
    "                color='green',\n",
    "                fontsize =12)\n",
    "\n",
    "_= plt.annotate('CARB/GTI data capped at\\n87.3% similar to % of\\ngrade 3 leaks in utility\\ndata', \n",
    "                xy=(0.11, 0.865), \n",
    "                xytext =(0.5, 0.74),\n",
    "                arrowprops = {'facecolor': 'darkorange', 'headwidth': 7, 'width': 2}, \n",
    "                color='saddlebrown', fontsize='small', alpha = 0.99, backgroundcolor= 'gainsboro')\n",
    "\n",
    "\n",
    "plt.xticks(size=12)\n",
    "plt.yticks(size=12)\n",
    "plt.show()"
   ]
  },
  {
   "cell_type": "code",
   "execution_count": 41,
   "metadata": {},
   "outputs": [
    {
     "data": {
      "image/png": "[encoded data removed]",
      "text/plain": [
       "<Figure size 554.4x396 with 1 Axes>"
      ]
     },
     "metadata": {
      "needs_background": "light"
     },
     "output_type": "display_data"
    }
   ],
   "source": [
    "_=plt.figure(figsize=(7.7,5.5))\n",
    "_=plt.semilogx(ecdf_x, y, marker ='.', linestyle='none', alpha=0.5, color ='dodgerblue')\n",
    "_=plt.xlim(0.000001, 28)\n",
    "_=plt.legend(['Simulated data'], loc ='upper left', fontsize = 'medium')\n",
    "_=plt.xlabel('Leak rate (scfh)')\n",
    "_=plt.ylabel('Fraction of\\nleaks smaller\\nthan the\\nleak rate', rotation =0, fontsize = 12, labelpad = 45)\n",
    "_=plt.title('Fitted lognormal distribution', fontsize=16)\n",
    "\n",
    "#Draw vertical lines to mark the ranges for each bin (based on observations in GTI experiment)\n",
    "_ = plt.axvline(max_d, 0.04, 0.96, lw=1, ls ='--', color='saddlebrown', alpha=0.7)\n",
    "_ = plt.axvline(max_c, 0.04, 0.96, lw=1, ls ='--', color='saddlebrown', alpha=0.7)\n",
    "_ = plt.axvline(max_b, 0.04, 0.96, lw=1, ls ='--', color='saddlebrown', alpha=0.7)\n",
    "\n",
    "#Draw text in the plot to mark regions of each bin\n",
    "_ = plt.text(x=0.0006, y= 0.5, s='D', color='black', alpha =0.9, fontsize=12)\n",
    "_ = plt.text(x=0.04, y= 0.5, s='C', color='black', alpha =0.9, fontsize=12)\n",
    "_ = plt.text(x=0.4, y= 0.5, s='B', color='black', alpha =0.9, fontsize=12)\n",
    "_ = plt.text(x=11, y= 0.5, s='A', color='black', alpha =0.9, fontsize=12)\n",
    "\n",
    "#Add green dots in each group to show where the mean is\n",
    "_= plt.plot(mean_d, 0.01, color = 'green', marker ='.', markersize = 8)\n",
    "_= plt.plot(mean_c, 0.01, color = 'green', marker ='.', markersize = 8)\n",
    "_= plt.plot(mean_b, 0.01, color = 'green', marker ='.', markersize = 8)\n",
    "_= plt.plot(mean_a, 0.01, color = 'green', marker ='.', markersize = 8)\n",
    "\n",
    "_= plt.annotate('mean', \n",
    "                xy=(mean_a, 0.03), \n",
    "                xytext =(mean_a - 0.1, 0.16),\n",
    "                arrowprops = {'facecolor': 'green', 'headwidth': 7, 'width': 2}, \n",
    "                color='green',\n",
    "                fontsize =12)\n",
    "\n",
    "plt.xticks(size=12)\n",
    "plt.yticks(size=12)\n",
    "plt.show()"
   ]
  },
  {
   "cell_type": "code",
   "execution_count": 42,
   "metadata": {},
   "outputs": [
    {
     "name": "stdout",
     "output_type": "stream",
     "text": [
      "2.655704079255669 6.220744125609563e-07 -5.281543897516893\n"
     ]
    }
   ],
   "source": [
    "import scipy.stats as stats  \n",
    "fit_s, fit_loc, fit_scale=stats.lognorm.fit(sim_data) # let scipy estimate best parameters using Maximum Likelihood \n",
    "#Estimation\n",
    "print(fit_s, fit_loc, np.log(fit_scale)) #fit_s is sigma or std, scale is exp(mu), so mu is ln(scale)\n",
    "\n",
    "# the values are close to actual parameters"
   ]
  },
  {
   "cell_type": "code",
   "execution_count": 43,
   "metadata": {},
   "outputs": [
    {
     "name": "stdout",
     "output_type": "stream",
     "text": [
      "1.8554104114340293 0.0 -1.0238173512783655\n"
     ]
    }
   ],
   "source": [
    "# try to fit lognormal distribution but end up with a negative value\n",
    "fit_s, fit_loc, fit_scale=stats.lognorm.fit(carb_flow_rate*200, floc=0) \n",
    "print(fit_s, fit_loc, np.log(fit_scale)) #for lognormal = sigma, loc, mu/mean"
   ]
  },
  {
   "cell_type": "code",
   "execution_count": 44,
   "metadata": {},
   "outputs": [
    {
     "ename": "NameError",
     "evalue": "name 'fit_c' is not defined",
     "output_type": "error",
     "traceback": [
      "\u001b[1;31m---------------------------------------------------------------------------\u001b[0m",
      "\u001b[1;31mNameError\u001b[0m                                 Traceback (most recent call last)",
      "\u001b[1;32m<ipython-input-44-8b4959f9372a>\u001b[0m in \u001b[0;36m<module>\u001b[1;34m\u001b[0m\n\u001b[0;32m      1\u001b[0m \u001b[0mfit_s\u001b[0m\u001b[1;33m,\u001b[0m \u001b[0mfit_loc\u001b[0m\u001b[1;33m,\u001b[0m \u001b[0mfit_scale\u001b[0m\u001b[1;33m=\u001b[0m\u001b[0mstats\u001b[0m\u001b[1;33m.\u001b[0m\u001b[0mweibull_min\u001b[0m\u001b[1;33m.\u001b[0m\u001b[0mfit\u001b[0m\u001b[1;33m(\u001b[0m\u001b[0mcarb_flow_rate\u001b[0m\u001b[1;33m*\u001b[0m\u001b[1;36m200\u001b[0m\u001b[1;33m,\u001b[0m \u001b[0mfloc\u001b[0m\u001b[1;33m=\u001b[0m\u001b[1;36m0\u001b[0m\u001b[1;33m)\u001b[0m\u001b[1;33m\u001b[0m\u001b[1;33m\u001b[0m\u001b[0m\n\u001b[1;32m----> 2\u001b[1;33m \u001b[0mprint\u001b[0m\u001b[1;33m(\u001b[0m\u001b[0mfit_c\u001b[0m\u001b[1;33m,\u001b[0m \u001b[0mfit_loc\u001b[0m\u001b[1;33m,\u001b[0m \u001b[0mnp\u001b[0m\u001b[1;33m.\u001b[0m\u001b[0mlog\u001b[0m\u001b[1;33m(\u001b[0m\u001b[0mfit_scale\u001b[0m\u001b[1;33m)\u001b[0m\u001b[1;33m)\u001b[0m \u001b[1;31m#for lognormal = sigma, loc, mu/mean\u001b[0m\u001b[1;33m\u001b[0m\u001b[1;33m\u001b[0m\u001b[0m\n\u001b[0m",
      "\u001b[1;31mNameError\u001b[0m: name 'fit_c' is not defined"
     ]
    }
   ],
   "source": [
    "fit_s, fit_loc, fit_scale=stats.weibull_min.fit(carb_flow_rate*200, floc=0) \n",
    "print(fit_c, fit_loc, np.log(fit_scale)) #for lognormal = sigma, loc, mu/mean"
   ]
  },
  {
   "cell_type": "code",
   "execution_count": null,
   "metadata": {},
   "outputs": [],
   "source": []
  },
  {
   "cell_type": "code",
   "execution_count": null,
   "metadata": {},
   "outputs": [],
   "source": [
    "\"\"\"Testing the best distribution for the carb dataset using the full list \n",
    "of the current scipy.stats distributions and returns the distribution with \n",
    "the least SSE (Sum of Square Error) between the distribution's histogram \n",
    "and the data's histogram.\n",
    "\n",
    "https://stackoverflow.com/questions/6620471/fitting-empirical-distribution-to-theoretical-ones-with-scipy-python\n",
    "\"\"\"\n",
    "\n",
    "%matplotlib inline\n",
    "\n",
    "import warnings\n",
    "import numpy as np\n",
    "import pandas as pd\n",
    "import statsmodels as sm\n",
    "import matplotlib\n",
    "import matplotlib.pyplot as plt\n",
    "import scipy.stats as st\n",
    "\n",
    "matplotlib.rcParams['figure.figsize'] = (16.0, 12.0)\n",
    "matplotlib.style.use('ggplot')\n",
    "\n",
    "# Create models from data\n",
    "def best_fit_distribution(data, bins=200, ax=None):\n",
    "    \"\"\"Model data by finding best fit distribution to data\"\"\"\n",
    "    # Get histogram of original data\n",
    "    y, x = np.histogram(data, bins=bins, density=True)\n",
    "    x = (x + np.roll(x, -1))[:-1] / 2.0\n",
    "\n",
    "    # Distributions to check\n",
    "    DISTRIBUTIONS = [        \n",
    "        st.alpha,st.anglit,st.arcsine,st.beta,st.betaprime,st.bradford,st.burr,st.cauchy,st.chi,st.chi2,st.cosine,\n",
    "        st.dgamma,st.dweibull,st.erlang,st.expon,st.exponnorm,st.exponweib,st.exponpow,st.f,st.fatiguelife,st.fisk,\n",
    "        st.foldcauchy,st.foldnorm,st.frechet_r,st.frechet_l,st.genlogistic,st.genpareto,st.gennorm,st.genexpon,\n",
    "        st.genextreme,st.gausshyper,st.gamma,st.gengamma,st.genhalflogistic,st.gilbrat,st.gompertz,st.gumbel_r,\n",
    "        st.gumbel_l,st.halfcauchy,st.halflogistic,st.halfnorm,st.halfgennorm,st.hypsecant,st.invgamma,st.invgauss,\n",
    "        st.invweibull,st.johnsonsb,st.johnsonsu,st.ksone,st.kstwobign,st.laplace,st.levy,st.levy_l,st.levy_stable,\n",
    "        st.logistic,st.loggamma,st.loglaplace,st.lognorm,st.lomax,st.maxwell,st.mielke,st.nakagami,st.ncx2,st.ncf,\n",
    "        st.nct,st.norm,st.pareto,st.pearson3,st.powerlaw,st.powerlognorm,st.powernorm,st.rdist,st.reciprocal,\n",
    "        st.rayleigh,st.rice,st.recipinvgauss,st.semicircular,st.t,st.triang,st.truncexpon,st.truncnorm,st.tukeylambda,\n",
    "        st.uniform,st.vonmises,st.vonmises_line,st.wald,st.weibull_min,st.weibull_max,st.wrapcauchy\n",
    "    ]\n",
    "\n",
    "    # Best holders\n",
    "    best_distribution = st.norm\n",
    "    best_params = (0.0, 1.0)\n",
    "    best_sse = np.inf\n",
    "\n",
    "    # Estimate distribution parameters from data\n",
    "    for distribution in DISTRIBUTIONS:\n",
    "\n",
    "        # Try to fit the distribution\n",
    "        try:\n",
    "            # Ignore warnings from data that can't be fit\n",
    "            with warnings.catch_warnings():\n",
    "                warnings.filterwarnings('ignore')\n",
    "\n",
    "                # fit dist to data\n",
    "                params = distribution.fit(data)\n",
    "\n",
    "                # Separate parts of parameters\n",
    "                arg = params[:-2]\n",
    "                loc = params[-2]\n",
    "                scale = params[-1]\n",
    "\n",
    "                # Calculate fitted PDF and error with fit in distribution\n",
    "                pdf = distribution.pdf(x, loc=loc, scale=scale, *arg)\n",
    "                sse = np.sum(np.power(y - pdf, 2.0))\n",
    "\n",
    "                # if axis pass in add to plot\n",
    "                try:\n",
    "                    if ax:\n",
    "                        pd.Series(pdf, x).plot(ax=ax)\n",
    "                    end\n",
    "                except Exception:\n",
    "                    pass\n",
    "\n",
    "                # identify if this distribution is better\n",
    "                if best_sse > sse > 0:\n",
    "                    best_distribution = distribution\n",
    "                    best_params = params\n",
    "                    best_sse = sse\n",
    "\n",
    "        except Exception:\n",
    "            pass\n",
    "\n",
    "    return (best_distribution.name, best_params)\n",
    "\n",
    "def make_pdf(dist, params, size=10000):\n",
    "    \"\"\"Generate distributions's Probability Distribution Function \"\"\"\n",
    "\n",
    "    # Separate parts of parameters\n",
    "    arg = params[:-2]\n",
    "    loc = params[-2]\n",
    "    scale = params[-1]\n",
    "\n",
    "    # Get sane start and end points of distribution\n",
    "    start = dist.ppf(0.01, *arg, loc=loc, scale=scale) if arg else dist.ppf(0.01, loc=loc, scale=scale)\n",
    "    end = dist.ppf(0.99, *arg, loc=loc, scale=scale) if arg else dist.ppf(0.99, loc=loc, scale=scale)\n",
    "\n",
    "    # Build PDF and turn into pandas Series\n",
    "    x = np.linspace(start, end, size)\n",
    "    y = dist.pdf(x, loc=loc, scale=scale, *arg)\n",
    "    pdf = pd.Series(y, x)\n",
    "\n",
    "    return pdf\n",
    "\n",
    "# Load data from statsmodels datasets\n",
    "data = pd.Series(carb_flow_rate * 200)\n",
    "\n",
    "# Plot for comparison\n",
    "plt.figure(figsize=(12,8))\n",
    "ax = data.plot(kind='hist', bins=50, normed=True, alpha=0.5, color=list(matplotlib.rcParams['axes.prop_cycle'])[1]['color'])\n",
    "# Save plot limits\n",
    "dataYLim = ax.get_ylim()\n",
    "\n",
    "# Find best fit distribution\n",
    "best_fit_name, best_fit_params = best_fit_distribution(data, 200, ax)\n",
    "best_dist = getattr(st, best_fit_name)\n",
    "\n",
    "# Update plots\n",
    "ax.set_ylim(dataYLim)\n",
    "ax.set_title(u'CARB leak data\\n All Fitted Distributions')\n",
    "ax.set_xlabel(u'Leak flow rate (scfh)')\n",
    "ax.set_ylabel('Frequency')\n",
    "\n",
    "# Make PDF with best params \n",
    "pdf = make_pdf(best_dist, best_fit_params)\n",
    "\n",
    "# Display\n",
    "plt.figure(figsize=(12,8))\n",
    "ax = pdf.plot(lw=2, label='PDF', legend=True)\n",
    "data.plot(kind='hist', bins=50, normed=True, alpha=0.5, label='Data', legend=True, ax=ax)\n",
    "\n",
    "param_names = (best_dist.shapes + ', loc, scale').split(', ') if best_dist.shapes else ['loc', 'scale']\n",
    "param_str = ', '.join(['{}={:0.2f}'.format(k,v) for k,v in zip(param_names, best_fit_params)])\n",
    "dist_str = '{}({})'.format(best_fit_name, param_str)\n",
    "\n",
    "ax.set_title(u'CARB leak rates with best fit distribution \\n' + dist_str)\n",
    "ax.set_xlabel(u'Leak rate (scfh)')\n",
    "ax.set_ylabel('Frequency')\n",
    "ax.set_xscale('log')"
   ]
  },
  {
   "cell_type": "code",
   "execution_count": null,
   "metadata": {},
   "outputs": [],
   "source": [
    "'''\n",
    "log-logistic or fisk seems to be the best distribution for the carb dataset \n",
    "It is similar to a lognormal distribution but has heavier tails\n",
    "https://en.wikipedia.org/wiki/Log-logistic_distribution\n",
    "'''\n",
    "fit_c, fit_loc, fit_scale=stats.fisk.fit(carb_flow_rate * 200, floc=0) \n",
    "print(fit_c, fit_loc, fit_scale) #for fisk = c, loc, scale"
   ]
  },
  {
   "cell_type": "code",
   "execution_count": null,
   "metadata": {},
   "outputs": [],
   "source": []
  },
  {
   "cell_type": "code",
   "execution_count": null,
   "metadata": {},
   "outputs": [],
   "source": [
    "# To save simulated distribution data into csv file\n",
    "# dict_ecdf = {\"x\": ecdf_x, \n",
    "#             \"ecdf\": y}\n",
    "# ecdf_df = pd.DataFrame(dict_ecdf)\n",
    "\n",
    "# ecdf_df.to_csv(\"simulated_ecdf_data.csv\")"
   ]
  },
  {
   "cell_type": "code",
   "execution_count": null,
   "metadata": {},
   "outputs": [],
   "source": []
  },
  {
   "cell_type": "code",
   "execution_count": null,
   "metadata": {},
   "outputs": [],
   "source": []
  },
  {
   "cell_type": "code",
   "execution_count": null,
   "metadata": {},
   "outputs": [],
   "source": []
  },
  {
   "cell_type": "code",
   "execution_count": null,
   "metadata": {},
   "outputs": [],
   "source": []
  }
 ],
 "metadata": {
  "kernelspec": {
   "display_name": "Python 3",
   "language": "python",
   "name": "python3"
  },
  "language_info": {
   "codemirror_mode": {
    "name": "ipython",
    "version": 3
   },
   "file_extension": ".py",
   "mimetype": "text/x-python",
   "name": "python",
   "nbconvert_exporter": "python",
   "pygments_lexer": "ipython3",
   "version": "3.7.1"
  }
 },
 "nbformat": 4,
 "nbformat_minor": 2
}
